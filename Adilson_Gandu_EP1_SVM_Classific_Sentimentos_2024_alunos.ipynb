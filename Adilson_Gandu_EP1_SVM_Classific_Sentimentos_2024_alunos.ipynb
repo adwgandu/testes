{
  "cells": [
    {
      "cell_type": "markdown",
      "metadata": {
        "id": "view-in-github",
        "colab_type": "text"
      },
      "source": [
        "<a href=\"https://colab.research.google.com/github/adwgandu/testes/blob/master/Adilson_Gandu_EP1_SVM_Classific_Sentimentos_2024_alunos.ipynb\" target=\"_parent\"><img src=\"https://colab.research.google.com/assets/colab-badge.svg\" alt=\"Open In Colab\"/></a>"
      ]
    },
    {
      "cell_type": "markdown",
      "metadata": {
        "id": "BYzjFcVXSsUO"
      },
      "source": [
        "# Support Vector Machine e Classificação de Sentimentos em Textos\n",
        "\n",
        "\n",
        "\n",
        "---\n",
        "\n",
        "\n",
        "\n",
        "\n",
        "**Data de entrega:** Até 12 de Maio de 2024\n",
        "\n",
        "**Como entregar:** Enviar o seu jupyter notebook (.ipynb) pelo próprio Classroom. Uma cópia deste será automaticamente criada para você no seu Google Drive, você pode usar essa cópia mesmo, sem necessidade de criar outra.\n"
      ]
    },
    {
      "cell_type": "markdown",
      "metadata": {
        "id": "5tdHx2quTGi7"
      },
      "source": [
        "**Leia com atenção:**\n",
        "\n",
        "\n",
        "*   Você deve fazer obrigatoriamente todas as atividades marcadas com a exclamação❗.\n",
        "*   Atividades marcadas com 🧩 são opcionais.\n",
        "*   Use o Google Colab para executar o notebook e fazer a tarefa, ou baixe no seu computador e faça na API que preferir, mas lembre-se de entregar no Classroom a versão final.\n",
        "*   A atividade vai ser baseada no seu número USP.\n",
        "*   Há questões dissertativas!\n",
        "*   Siga o passo a passo indicado no tutorial, respondendo as perguntas das atividades propostas no seu jupyter notebook.\n",
        "*   O notebook que entregar deve estar 100% funcional, isto é, todos os códigos rodando no Colab sem erros.\n",
        "*   Entregue o notebook completo, com todo conteúdo original e mais os seus códigos e textos.\n",
        "*   Esta tarefa é individual e haverá controle de similaridade. Tentativas de cópias, fraude, compra-venda de EPs não serão toleradas, levando a nota zero na tarefa e posterior análise para medidas cabíveis.\n",
        "\n",
        "\n",
        "\n",
        "\n",
        "\n"
      ]
    },
    {
      "cell_type": "markdown",
      "metadata": {
        "id": "XPr-mNFnuzD_"
      },
      "source": [
        "###❗Exercício❗\n",
        "Para mostrar que você leu até aqui, escreva seu nome completo (assinatura) na linha a seguir:"
      ]
    },
    {
      "cell_type": "markdown",
      "metadata": {
        "id": "f8RR8BxnxJhk"
      },
      "source": [
        "*Assinatura:* Adilson Wagner Gandu"
      ]
    },
    {
      "cell_type": "markdown",
      "metadata": {
        "id": "ueXuiB-jqwco"
      },
      "source": [
        "\n",
        "\n",
        "---\n",
        "\n",
        "\n",
        "\n"
      ]
    },
    {
      "cell_type": "markdown",
      "metadata": {
        "id": "zswfnLHX0x1B"
      },
      "source": [
        "## Pre-requisitos"
      ]
    },
    {
      "cell_type": "markdown",
      "metadata": {
        "id": "Fn_7zs09Tcaj"
      },
      "source": [
        "Primeiro vamos carregar algumas bibliotecas: Numpy, Scipy Linear Algebra (scipy.linalg), Pandas, System (sys) e Time (time)"
      ]
    },
    {
      "cell_type": "code",
      "execution_count": null,
      "metadata": {
        "id": "fN9VY87CTuN2"
      },
      "outputs": [],
      "source": [
        "import numpy as np\n",
        "import scipy.linalg as la\n",
        "import pandas as pd\n",
        "import matplotlib.pyplot as plt\n",
        "from matplotlib.colors import ListedColormap\n",
        "import matplotlib.cm as cm\n",
        "\n",
        "import sys\n",
        "import time"
      ]
    },
    {
      "cell_type": "markdown",
      "metadata": {
        "id": "3SI8GHmPXwgy"
      },
      "source": [
        "Agora vamos definir alguns números especiais (\"magic\") para cada aluno, com base no seu número USP. eles serão usados para personalizar a sua Atividade Computacional."
      ]
    },
    {
      "cell_type": "markdown",
      "metadata": {
        "id": "t8nlWzYV0k_s"
      },
      "source": [
        "## ❗Exercício❗\n",
        "\n",
        "Preencha o seu número USP abaixo"
      ]
    },
    {
      "cell_type": "code",
      "execution_count": null,
      "metadata": {
        "id": "DOGdOYSRX36L"
      },
      "outputs": [],
      "source": [
        "# Coloque aqui o seu número USP\n",
        "nusp = 2783391"
      ]
    },
    {
      "cell_type": "markdown",
      "metadata": {
        "id": "TdVVnZnyX_zt"
      },
      "source": [
        "Estes números serão importantes para a atividade:"
      ]
    },
    {
      "cell_type": "code",
      "execution_count": null,
      "metadata": {
        "id": "gTRo44pnYE9v",
        "colab": {
          "base_uri": "https://localhost:8080/"
        },
        "outputId": "df30a52a-3e52-4c2c-80dc-fd9a43373863"
      },
      "outputs": [
        {
          "output_type": "stream",
          "name": "stdout",
          "text": [
            "magic_ilong  = 2783391\n",
            "magic_ishort = 27\n",
            "magic_int = 8\n"
          ]
        }
      ],
      "source": [
        "nusp_str=str(nusp).replace(\"0\",\"\")\n",
        "\n",
        "magic_ilong = int(nusp_str)\n",
        "magic_ishort = int(str(magic_ilong)[:2])\n",
        "\n",
        "# Ultimo digito não nulo do nusp\n",
        "magic_int = int(list(set(nusp_str))[-1])\n",
        "\n",
        "\n",
        "print(\"magic_ilong  =\", magic_ilong)\n",
        "print(\"magic_ishort =\", magic_ishort)\n",
        "print(\"magic_int =\", magic_int)\n"
      ]
    },
    {
      "cell_type": "markdown",
      "metadata": {
        "id": "H5Z5mDnarTWx"
      },
      "source": [
        "\n",
        "\n",
        "---\n",
        "\n",
        "\n"
      ]
    },
    {
      "cell_type": "markdown",
      "metadata": {
        "id": "tgRGnTBTaH0M"
      },
      "source": [
        "## Método de Newton multidimensional"
      ]
    },
    {
      "cell_type": "markdown",
      "metadata": {
        "id": "rBBGsz98aNoY"
      },
      "source": [
        "Considere uma curva no plano, que podemos representar como uma curva de nível de uma função:\n",
        "\n",
        "$$\n",
        "f(x,y) = 0\n",
        "$$\n",
        "\n",
        "Por exemplo,\n",
        "$$\n",
        "f(x,y) = x^2 + y ^2 - c = 0\n",
        "$$\n",
        "define um cículo no plano centrado no $(0,0)$ com raio $\\sqrt{c}$."
      ]
    },
    {
      "cell_type": "code",
      "execution_count": null,
      "metadata": {
        "id": "N7OM1CBiinCV",
        "colab": {
          "base_uri": "https://localhost:8080/",
          "height": 454
        },
        "outputId": "2187857d-77e8-476e-d86f-570bbcc2b623"
      },
      "outputs": [
        {
          "output_type": "display_data",
          "data": {
            "text/plain": [
              "<Figure size 640x480 with 1 Axes>"
            ],
            "image/png": "[encoded data removed]"
          },
          "metadata": {}
        }
      ],
      "source": [
        "#Função\n",
        "def f(x,y):\n",
        "  # c=1\n",
        "  return x**2+y**2 - 1.0\n",
        "\n",
        "\n",
        "# Amostra de pontos no plano\n",
        "x = np.arange(-2.0, 2.0, 0.01)\n",
        "y = np.arange(-2.0, 2.0, 0.01)\n",
        "X, Y = np.meshgrid(x, y)\n",
        "\n",
        "# Funcão\n",
        "Z = f(X,Y)\n",
        "\n",
        "#Gráfico\n",
        "fig, ax = plt.subplots()\n",
        "CS = ax.contour(X, Y, Z, [0.0])\n",
        "#ax.clabel(CS, inline=True, fontsize=10)\n",
        "ax.set_title('Curva de $f(x,y)=0$')\n",
        "ax.axis('equal')\n",
        "\n",
        "plt.show()"
      ]
    },
    {
      "cell_type": "markdown",
      "metadata": {
        "id": "qCcqdqDSkB6u"
      },
      "source": [
        "Agora suponha que temos 2 curvas,\n",
        "$$\n",
        "f_1(x,y) = 0 \\\\\n",
        "f_2(x,y) = 0\n",
        "$$\n",
        "Por exemplo um cículo e uma elipse\n",
        "$$\n",
        "f_1(x,y) = x^2 + y ^2 - 1 = 0 \\\\\n",
        "f_2(x,y) = x^2/2 + 3y ^2 -2 = 0\n",
        "$$"
      ]
    },
    {
      "cell_type": "code",
      "execution_count": null,
      "metadata": {
        "id": "n41DHZ1nkfkZ",
        "colab": {
          "base_uri": "https://localhost:8080/",
          "height": 454
        },
        "outputId": "30d28996-ff47-474b-ba64-c0d244a98fae"
      },
      "outputs": [
        {
          "output_type": "display_data",
          "data": {
            "text/plain": [
              "<Figure size 640x480 with 1 Axes>"
            ],
            "image/png": "[encoded data removed]"
          },
          "metadata": {}
        }
      ],
      "source": [
        "def f1(x,y):\n",
        "  return x**2+y**2 -1\n",
        "\n",
        "def f2(x,y):\n",
        "  return x**2/2+3*y**2 - 2\n",
        "\n",
        "# Amostra de pontos no plano\n",
        "x = np.arange(-3.0, 3.0, 0.01)\n",
        "y = np.arange(-3.0, 3.0, 0.01)\n",
        "X, Y = np.meshgrid(x, y)\n",
        "\n",
        "# Funcão\n",
        "Zf1 = f1(X,Y)\n",
        "Zf2 = f2(X,Y)\n",
        "\n",
        "#Gráfico\n",
        "fig, ax = plt.subplots()\n",
        "CSf = ax.contour(X, Y, Zf1, [0.0])\n",
        "CSg = ax.contour(X, Y, Zf2, [0.0], colors=('r'))\n",
        "ax.set_title('Curvas de $f_1(x,y)=0$ e $f_2(x,y)=0$')\n",
        "ax.axis('equal')\n",
        "\n",
        "plt.show()"
      ]
    },
    {
      "cell_type": "markdown",
      "metadata": {
        "id": "V9Sc9-zbl0Go"
      },
      "source": [
        "> Como podemos fazer para achar os pontos de intersecção entre as curvas? Ou seja, um ponto $(x,y)$ onde tanto $f_1$ quanto $f_2$ são zero?"
      ]
    },
    {
      "cell_type": "markdown",
      "metadata": {
        "id": "zmLjXvNll7Z-"
      },
      "source": [
        "Uma forma é usando o método de Newton, mas neste caso ele é bidimensional. Para facilitar a notação, escrevemos:\n",
        "\n",
        "$$\n",
        "F(\\vec{x}) =\\left(\n",
        "\\begin{array}{c}\n",
        "f_1(x,y) \\\\\n",
        "f_2(x,y)\n",
        "\\end{array} \\right)\n",
        "$$\n",
        "onde $\\vec{x}=(x,y)$. Logo, queremos encontrar um ponto $\\vec{x}$ tal que $F(\\vec{x})=\\vec{0}$, onde indicamos $\\vec{0}=(0,0)$.\n",
        "\n",
        "Nessa notação, poderíamos considerar $\\vec{x} \\in \\mathbb{R}^N$ e $F: \\mathbb{R}^N → \\mathbb{R}^N $, e podemos escrever o método de Newton como\n",
        "\n",
        "$$\n",
        "\\vec{x}_{k+1}= \\vec{x}_{k} - [F'(\\vec{x}_{k})]^{-1} F(\\vec{x}_{k}),\n",
        "$$\n",
        "sendo $\\vec{x}_{0}$ dado, e $F'$ representa a Jacobiana (matriz de derivadas $\\partial F_i/ \\partial x_j$) de $F$.\n",
        "\n",
        "Note que a cada iteração precisamos calcular uma inversa de uma matriz. Para evitar esse cálculo explícito, transformamos cada passo de Newton em um problema de resolver um sistema linear:\n",
        "\n",
        "$$\n",
        "F'(\\vec{x}_{k}) \\vec{d}_{k} = - F(\\vec{x}_{k}),\n",
        "$$\n",
        "e depois calculamos\n",
        "$$\n",
        "\\vec{x}_{k+1}= \\vec{x}_{k} + \\vec{d}_{k}.\n",
        "$$"
      ]
    },
    {
      "cell_type": "markdown",
      "metadata": {
        "id": "O1-FDkxepGxQ"
      },
      "source": [
        "Vamos voltar ao nosso exemplo de calcular os pontos de intersecção de curvas de níveis. No exemplo do círculo e elipse, queremos resolver\n",
        "$$\n",
        "F(\\vec{x}) =\\left(\n",
        "\\begin{array}{c}\n",
        "x^2+y^2 - 1 \\\\\n",
        "x^2/2+3y^2 - 2\n",
        "\\end{array} \\right)\n",
        "=\n",
        "\\left(\n",
        "\\begin{array}{c}\n",
        "0 \\\\\n",
        "0\n",
        "\\end{array} \\right).\n",
        "$$\n",
        "e a Jacobiana de $F$ é dada por (verifique!)\n",
        "$$\n",
        "F'(\\vec{x}) =\\left(\n",
        "\\begin{array}{cc}\n",
        "2x & 2y \\\\\n",
        "x  & 6y\n",
        "\\end{array} \\right).\n",
        "$$\n",
        "Para o método de Newton, a cada iteração precisamos resovler o seguinte sistema linear\n",
        "$$\n",
        "\\left(\n",
        "\\begin{array}{cc}\n",
        "2x_k & 2y_k \\\\\n",
        "x_k  & 6y_k\n",
        "\\end{array} \\right) \\left(\n",
        "\\begin{array}{c}\n",
        "dx_k \\\\\n",
        "dy_k\n",
        "\\end{array} \\right)\n",
        " = -\\left(\n",
        "\\begin{array}{c}\n",
        "x_k^2+y_k^2 - 1 \\\\\n",
        "x_k^2/2+3y_k^2 - 1\n",
        "\\end{array} \\right),\n",
        "$$\n",
        "e atualizamos o passo fazendo\n",
        "$$\n",
        "\\left(\n",
        "\\begin{array}{c}\n",
        "x_{k+1} \\\\\n",
        "y_{k+1}\n",
        "\\end{array} \\right)=\n",
        "\\left(\n",
        "\\begin{array}{c}\n",
        "dx_k \\\\\n",
        "dy_k\n",
        "\\end{array} \\right)+\n",
        "\\left(\n",
        "\\begin{array}{c}\n",
        "x_k \\\\\n",
        "y_k\n",
        "\\end{array} \\right).\n",
        "$$"
      ]
    },
    {
      "cell_type": "markdown",
      "metadata": {
        "id": "afzRD_w5aZXb"
      },
      "source": [
        "### ❗Exercício 1❗\n",
        "\n",
        "Escreva um código em Python que encontre os pontos de intersecção de curvas de níveis no plano, com as seguintes características:\n",
        "\n",
        "1. Considere como problema a ser resolvido o problema de intersecção do círculo e elipse com\n",
        "$$\n",
        "F(\\vec{x}) =\\left(\n",
        "\\begin{array}{c}\n",
        "x^2+y^2 - 1 \\\\\n",
        "x^2/M+3y^2 - 2\n",
        "\\end{array} \\right)\n",
        "=\n",
        "\\left(\n",
        "\\begin{array}{c}\n",
        "0 \\\\\n",
        "0\n",
        "\\end{array} \\right).\n",
        "$$\n",
        "\n",
        "onde $M$ é o seu número \"magic_int\", definido com base no seu número USP (é o último dígito não nulo do seu número USP).\n",
        "2. Escreva uma função que recebe um ponto $(x,y)$ e calcula a $F(x,y)$ (note que ela recebe $(x,y)$ e devolve um vetor em $\\mathbb{R}^2$)\n",
        "3. Escreva uma função que recebe um ponto $(x,y)$ e calcula a matriz $F'(x,y)$.\n",
        "4. Escreva uma função que recebe um ponto $(x_k, y_k)$ e resolve o sistema linear $F'(x_k,y_k) \\vec{d}_k = - F(x_k,y_k) $. Para a resolução do sistema linear, você pode implementar o seu próprio resolvedor, com eliminação de Gauss por exemplo, ou usar uma implementação do Python (Numpy/Scipy).\n",
        "5. Seu código final deve começar com um chute inicial $(x_0, y_0)$ e aplicar sucessivas iterações do método de Newton para encontrar os pontos de intersecção das curvas.\n",
        "6. Cuidado! Você deve impor um número máximo de iterações e algum critério de parada, por exemplo quando $\\|F(x,y)\\| < 10e{-6}$. Caso em algum passo o sistema linear não tenha solução (determinante nulo), seu código deve retornar ao usuário um aviso (erro).\n",
        "\n",
        "Com o seu código pronto, responda as perguntas:\n",
        "\n",
        "1. Escreva as estimativas encontradas para os 4 pontos de interesecção das curvas.\n",
        "2. Como fazemos para encontrar um ponto de intersecção ao invés de outro?\n",
        "3. O método de Newton funciona para qualquer chute inicial? Sempre converge para um ponto de intersecção? Quando ele não funciona?"
      ]
    },
    {
      "cell_type": "code",
      "execution_count": null,
      "metadata": {
        "id": "cR476pn8vETn"
      },
      "outputs": [],
      "source": [
        "# F(x,y)\n",
        "\n",
        "\n",
        "\n",
        "\n",
        "# F'(x,y)\n",
        "\n",
        "\n",
        "\n",
        "# Sistema Linear\n",
        "\n",
        "\n",
        "\n",
        "\n",
        "# Método de Newton\n",
        "\n",
        "\n"
      ]
    },
    {
      "cell_type": "markdown",
      "metadata": {
        "id": "5cEZmjmXvWNT"
      },
      "source": [
        "Respostas das perguntas:\n",
        "1.  \n",
        "2.  \n",
        "3.   "
      ]
    },
    {
      "cell_type": "markdown",
      "metadata": {
        "id": "iyanfY1uagMz"
      },
      "source": [
        "\n",
        "\n",
        "---\n",
        "\n"
      ]
    },
    {
      "cell_type": "markdown",
      "metadata": {
        "id": "yJcf24DCgzx8"
      },
      "source": [
        "## Classificação de Dados"
      ]
    },
    {
      "cell_type": "markdown",
      "metadata": {
        "id": "7dIbJymkRu_p"
      },
      "source": [
        "####Exemplo em dimensão 2"
      ]
    },
    {
      "cell_type": "markdown",
      "metadata": {
        "id": "43LTbf-ThbQ4"
      },
      "source": [
        "\n",
        "Suponha que temos informações da nota do ENEM de vários alunos que passaram na USP e na UNICAMP, por exemplo formando a tabela\n",
        "\n",
        "\n",
        "|Aluno | Onde passou | Nota Matemática | Nota Português |\n",
        "|------|-------------|-----------------|----------------|\n",
        "|João | USP | 9 | 7 |\n",
        "|José | USP | 10 | 6 |\n",
        "|Maria | UNICAMP | 7 | 8 |\n",
        "|Rosa | USP | 10 | 4 |\n",
        "|Pedro | UNICAMP | 3 | 7 |\n",
        "|Carlos | UNICAMP | 6 | 9 |\n",
        "|Daniel | USP | 9 | 5 |\n",
        "|Mario | UNICAMP | 7 | 9 |\n",
        "|Ronaldo | USP | 7 | 5 |\n",
        "| ...  | ... | ... | ...|\n",
        "\n",
        "Seria possível montar algum modelo que permitir dizer onde um aluno que não está nessa tabela (novo aluno) passou olhando apenas as suas notas do ENEM?\n",
        "\n",
        "\n",
        "Esse é um problema de classificação. Montamos um modelo com base nesses dados (treinamos um modelo com dados) e usamos esse modelo para classificar novos dados. Esse é um dos objetivo de um modelo que usa **Support Vector Machine** (SVM).\n",
        "\n",
        "> É claro que esse exemplo é fictício e simplificado, mas ele já nos fornece desafios suficientes para entendermos como funciona o SVM!"
      ]
    },
    {
      "cell_type": "markdown",
      "metadata": {
        "id": "aLSRWR5Hji1U"
      },
      "source": [
        "Vamos tentar entender o SVM com base nesse exemplo acima. Primeiro vamos fazer um gráfico das notas em relação às notas nas duas áreas, separando pelas duas categorias (universidades)."
      ]
    },
    {
      "cell_type": "code",
      "execution_count": null,
      "metadata": {
        "id": "7zHYMRuqjnNJ"
      },
      "outputs": [],
      "source": [
        "dados = {\n",
        "    'aluno': ['João', 'José', 'Maria', 'Rosa', 'Pedro', 'Carlos', 'Daniel', 'Mario', 'Ronaldo', 'André', 'Gabriel', 'Nelson', 'Cláudia', 'Fábio', 'Cláudio', 'Armando'],\n",
        "    'univ': ['USP', 'USP', 'UNICAMP', 'USP', 'UNICAMP', 'UNICAMP', 'USP', 'UNICAMP', 'USP', 'USP', 'UNICAMP', 'USP', 'USP', 'UNICAMP', 'USP', 'UNICAMP'],\n",
        "    'nota_mat':  [9, 10, 7, 10, 3, 6, 9, 7, 7, 5, 3, 8, 9, 5, 6, 5],\n",
        "    'nota_port': [7,  6, 8,  4, 7, 9, 5, 9, 5, 3, 9, 4, 3, 6, 5, 8]\n",
        "}\n",
        "\n",
        "df = pd.DataFrame(dados)\n",
        "\n",
        "# Definir cores com base na variável 'local'\n",
        "cores = {'USP': 'blue', 'UNICAMP': 'red'}\n",
        "\n",
        "# Criar o gráfico de dispersão\n",
        "plt.figure(figsize=(8, 6))\n",
        "for local, cor in cores.items():\n",
        "    plt.scatter(df[df['univ'] == local]['nota_mat'], df[df['univ'] == local]['nota_port'], label=local, color=cor, alpha=0.5)\n",
        "\n",
        "# Adicionar rótulos e título\n",
        "plt.xlabel('Nota Matemática')\n",
        "plt.ylabel('Nota Português')\n",
        "plt.legend(title='Universidade')\n",
        "plt.axis([2, 10, 2, 10])\n",
        "\n",
        "# Exibir o gráfico\n",
        "print(df)\n",
        "plt.show()\n",
        "#print(df)\n"
      ]
    },
    {
      "cell_type": "markdown",
      "metadata": {
        "id": "0BFbatwER0-K"
      },
      "source": [
        "Queremos achar, inicialmente, uma reta que corta esse plano e separa as notas das duas universidades. Nem sempre isso é possível, mas nesse caso, parece que as notas da UNICAMP e da USP tem um certo agrupamento."
      ]
    },
    {
      "cell_type": "markdown",
      "metadata": {
        "id": "RQ-mmobrSmrw"
      },
      "source": [
        "Vamos começar com um pouco de matemática. Para cada aluno $(i)$ temos as seguintes informações:\n",
        "- $y_i$ : será $-1$ se for USP e $+1$ se for UNICAMP\n",
        "- $\\vec{x}_i$: um vetor de tamanho 2 com as notas de matemática e português, nessa ordem. No caso geral, esse vetor por ter tamanho arbitrário (chamaremos de $p$), com as características que nos interessam.\n",
        "\n",
        "Logo, temos um conjunto para os $n$ alunos dado por:\n",
        "$$\n",
        "(\\vec{x}_1, y_1)\\\\\n",
        "(\\vec{x}_2, y_2)\\\\\n",
        "... \\\\\n",
        "(\\vec{x}_n, y_n)\n",
        "$$\n",
        "com $\\vec{x}_i \\in \\mathbb{R}^p$.\n"
      ]
    },
    {
      "cell_type": "markdown",
      "metadata": {
        "id": "sxUPxMayT3Hz"
      },
      "source": [
        "\n",
        "\n",
        "> **Objetivo**: Achar a reta (ou hiperplano no caso geral) que divida os pontos $\\vec{x}_i$ de forma a separar os grupos de pontos com base em $y_i=\\pm 1$. Formalmente, queremos uma reta (hiperplano) que maximize a distancia entre ela e o ponto mais próximo de cada grupo.\n"
      ]
    },
    {
      "cell_type": "markdown",
      "metadata": {
        "id": "av4-8Z8yUlBM"
      },
      "source": [
        "Podemos escrever retas escolhendo valores $a$, $b$ e $c$ tais que\n",
        "$$ ax+by-c=0,$$\n",
        "ou, analogamente para hiperplanos, escolhendo vetores $w \\in \\mathbb{R}^p$\n",
        "$$ w^T\\vec{x}-c=0,$$\n",
        "com $\\vec{x}\\in \\mathbb{R}^p$ o vetor de coordenadas do $\\mathbb{R}^p$\n",
        "\n"
      ]
    },
    {
      "cell_type": "markdown",
      "metadata": {
        "id": "bSj9HdEFVh-2"
      },
      "source": [
        "Vejamos no nosso exemplo, chutando valores de $w$ e $c$:"
      ]
    },
    {
      "cell_type": "code",
      "execution_count": null,
      "metadata": {
        "id": "spCQ9La0VkZU"
      },
      "outputs": [],
      "source": [
        "plt.figure(figsize=(8, 6))\n",
        "\n",
        "# Criar o gráfico de dispersão\n",
        "for local, cor in cores.items():\n",
        "    plt.scatter(df[df['univ'] == local]['nota_mat'], df[df['univ'] == local]['nota_port'], label=local, color=cor, alpha=0.5)\n",
        "\n",
        "\n",
        "#Reta (chutamos esses valores!)\n",
        "# ax+by-c = 0,  wx - c = 0,  w= (a, b)\n",
        "b = 3.5\n",
        "a = -2.8\n",
        "c = 2.0\n",
        "\n",
        "# Fazendo o gráfico da reta usando 2 pontos da reta\n",
        "x0 = 0\n",
        "y0 = (c - a*x0)/b\n",
        "x1 = 10\n",
        "y1 = (c - a*x1)/b\n",
        "plt.plot([x0, x1], [y0, y1], color='green', linestyle='--', label='Reta de Separação')\n",
        "\n",
        "# Adicionar rótulos e título\n",
        "plt.xlabel('Nota Matemática')\n",
        "plt.ylabel('Nota Português')\n",
        "plt.legend(title='Universidade')\n",
        "plt.axis([2, 10, 2, 10])\n",
        "plt.show()\n"
      ]
    },
    {
      "cell_type": "markdown",
      "metadata": {
        "id": "HCxnrvNUXCHi"
      },
      "source": [
        "Será que esse chute foi uma boa escolha para separar os grupos? Como achar \"a melhor reta\"?\n",
        "\n",
        "> Se acharmos a tal reta, podemos usar ela para categorizar novos dados! Basta olhar se o dado está \"acima\" ou \"abaixo\" da reta e classificar ele como USP ou UNICAMP! Isso daria uma previsão de qual universidade o novo aluno deve ter ido. Essa previsão será melhor ou pior a depender do ajuste da nossa reta."
      ]
    },
    {
      "cell_type": "markdown",
      "metadata": {
        "id": "FFE8Yw1QnAxF"
      },
      "source": [
        "Note que qualquer reta de separação temos que os pontos da USP estão \"abaixo\" da reta, satisfazendo\n",
        "$$ ax+by-c < 0,$$\n",
        "ou no caso geral\n",
        "$$ w^T\\vec{x}-c < 0,$$\n",
        "e os pontos da UNICAMP estão \"acima\" da reta, com\n",
        "$$ w^T\\vec{x}-c > 0.$$\n",
        "\n",
        "\n",
        "\n"
      ]
    },
    {
      "cell_type": "markdown",
      "metadata": {
        "id": "rN08FiHjPUNK"
      },
      "source": [
        "Para que possamos medir a qualidade do classificador, adicionamos uma margem de mais ou menos um a essa reta (hiperplano) e impomos que uma categoria deve satisfazer\n",
        "$$ w^T\\vec{x}_i-c\\geq1, $$\n",
        "para $ i \\in \\text{UNICAMP}$, isto é, $i$ tal que $y_i=+1$,\n",
        "e a outra com\n",
        "$$ w^T\\vec{x}_i-c\\leq-1,$$\n",
        "para $ i \\in \\text{USP}$, isto é, $i$ tal que $y_i=-1$. Resumidamente, considerando os dois grupos, podemos escrever que\n",
        "$$ y_i(w^T\\vec{x}_i-c)\\geq1.$$\n",
        "\n",
        "No exemplo anterior, com a nossa reta chutada, as retas que definem as margem são $ w^T\\vec{x}-c=\\pm 1$, como podemos ver na figura a seguir."
      ]
    },
    {
      "cell_type": "code",
      "execution_count": null,
      "metadata": {
        "id": "AkQj0UUSPy7e"
      },
      "outputs": [],
      "source": [
        "plt.figure(figsize=(8, 6))\n",
        "\n",
        "# Criar o gráfico de dispersão\n",
        "for local, cor in cores.items():\n",
        "    plt.scatter(df[df['univ'] == local]['nota_mat'], df[df['univ'] == local]['nota_port'], label=local, color=cor, alpha=0.5)\n",
        "\n",
        "#Reta (chutada)\n",
        "# ax+by-c = 0 ou  wx - c = 0,  w= (a, b)\n",
        "b = 3.5\n",
        "a = -2.8\n",
        "c = 2.0\n",
        "\n",
        "# Gráficos das retas\n",
        "#2 pontos da reta principal\n",
        "x0 = 2\n",
        "y0 = (c - a*x0)/b\n",
        "x1 = 10\n",
        "y1 = (c - a*x1)/b\n",
        "plt.plot([x0, x1], [y0, y1], color='green', linestyle='--', label='Reta de Separação')\n",
        "\n",
        "#2 pontos da reta de margem\n",
        "# ax+by-c = 1\n",
        "x0 = 2\n",
        "y0 = (1+c - a*x0)/b\n",
        "x1 = 10\n",
        "y1 = (1+c - a*x1)/b\n",
        "plt.plot([x0, x1], [y0, y1], color='red', linestyle=':', label='Reta de Margem +1')\n",
        "\n",
        "#2 pontos da reta de margem\n",
        "# ax+by-c = -1\n",
        "x0 = 2\n",
        "y0 = (-1+c - a*x0)/b\n",
        "x1 = 10\n",
        "y1 = (-1+c - a*x1)/b\n",
        "plt.plot([x0, x1], [y0, y1], color='red', linestyle=':', label='Reta de Margem -1')\n",
        "\n",
        "\n",
        "# Adicionar rótulos e título\n",
        "plt.axis([2, 10, 2, 10])\n",
        "plt.xlabel('Nota Matemática')\n",
        "plt.ylabel('Nota Português')\n",
        "plt.legend(title='Universidade')\n",
        "plt.show()\n"
      ]
    },
    {
      "cell_type": "markdown",
      "metadata": {
        "id": "znKUtxysQdvF"
      },
      "source": [
        "> O método SVM irá buscar uma reta de separação/classificação de tal forma a separar os grupos e tentando aumentar a distância entre as margens! Isso é um problema de otimização, que vamos discutir a seguir."
      ]
    },
    {
      "cell_type": "markdown",
      "metadata": {
        "id": "3aQjX1DPcOB6"
      },
      "source": [
        "Veja um exemplo onde tentamos aumentar a margem (distância entre as retas de suporte)."
      ]
    },
    {
      "cell_type": "code",
      "execution_count": null,
      "metadata": {
        "id": "WJvjkItKo00D"
      },
      "outputs": [],
      "source": [
        "plt.figure(figsize=(8, 6))\n",
        "\n",
        "# Criar o gráfico de dispersão\n",
        "for local, cor in cores.items():\n",
        "    plt.scatter(df[df['univ'] == local]['nota_mat'], df[df['univ'] == local]['nota_port'], label=local, color=cor, alpha=0.5)\n",
        "\n",
        "#Reta\n",
        "# ax+by-c = 0\n",
        "# wx - c = 0, w =(a,b)\n",
        "b = 2.0\n",
        "a = -1.6\n",
        "c = 2.3\n",
        "\n",
        "#2 pontos da reta principal\n",
        "x0 = 2\n",
        "y0 = (c - a*x0)/b\n",
        "x1 = 10\n",
        "y1 = (c - a*x1)/b\n",
        "plt.plot([x0, x1], [y0, y1], color='green', linestyle='--', label='Reta de Separação')\n",
        "\n",
        "#2 pontos da reta de margem\n",
        "# ax+by-c = 1\n",
        "x0 = 2\n",
        "y0 = (1+c - a*x0)/b\n",
        "x1 = 10\n",
        "y1 = (1+c - a*x1)/b\n",
        "plt.plot([x0, x1], [y0, y1], color='red', linestyle=':', label='Reta de Margem +1')\n",
        "\n",
        "#2 pontos da reta de margem\n",
        "# ax+by-c = -1\n",
        "x0 = 2\n",
        "y0 = (-1+c - a*x0)/b\n",
        "x1 = 10\n",
        "y1 = (-1+c - a*x1)/b\n",
        "plt.plot([x0, x1], [y0, y1], color='red', linestyle=':', label='Reta de Margem -1')\n",
        "\n",
        "\n",
        "# Adicionar rótulos e título\n",
        "plt.axis([2, 10, 2, 10])\n",
        "plt.xlabel('Nota Matemática')\n",
        "plt.ylabel('Nota Português')\n",
        "plt.legend(title='Universidade')\n",
        "plt.show()"
      ]
    },
    {
      "cell_type": "markdown",
      "metadata": {
        "id": "a8aOhgzSKLz4"
      },
      "source": [
        "> Nosso desafio no método de Support Vector Machine será o de achar a reta (hiperplano) que separa os pontos e tem a maior margem possível! Isto é, a distância entre as retas (hiperplanos) de suporte (onde não há dados) é a maior possível. Isto dá mais confiança ao classificador já que a reta (hiperplano) $\\vec{w}^Tx-c=0$, ao longo da qual a classificação é duvidosa, está o mais longe possível dos dados verdadeiros. Isto é, um hiperplano com uma margem muito pequena poderia classificar um novo ponto como \"vermelho\" mesmo tendo um dado azul muito próximo dele, mas do lado oposto, o que provavelmente não corresponderia com a natureza verdadeira do novo ponto que estamos tentando classificar. Veja o ponto verde no gráfico abaixo, que seria classificado como um aluno da UNICAMP sendo que aparentemente ele tem mais semelhanças com as notas de um aluno da USP."
      ]
    },
    {
      "cell_type": "code",
      "execution_count": null,
      "metadata": {
        "id": "wlM68ba6PvOO"
      },
      "outputs": [],
      "source": [
        "plt.figure(figsize=(8, 6))\n",
        "\n",
        "# Criar o gráfico de dispersão\n",
        "for local, cor in cores.items():\n",
        "    plt.scatter(df[df['univ'] == local]['nota_mat'], df[df['univ'] == local]['nota_port'], label=local, color=cor, alpha=0.5)\n",
        "\n",
        "#Reta\n",
        "# ax+by-c = 0, wx-c=0 com w= (a, b)\n",
        "b = 5.5\n",
        "a = -1.925\n",
        "c = 22.275\n",
        "\n",
        "#2 pontos da reta principal\n",
        "x0 = 2\n",
        "y0 = (c - a*x0)/b\n",
        "x1 = 10\n",
        "y1 = (c - a*x1)/b\n",
        "plt.plot([x0, x1], [y0, y1], color='green', linestyle='--', label='Reta de Separação')\n",
        "\n",
        "#2 pontos da reta de margem\n",
        "# ax+by-c = 1\n",
        "x0 = 2\n",
        "y0 = (1+c - a*x0)/b\n",
        "x1 = 10\n",
        "y1 = (1+c - a*x1)/b\n",
        "plt.plot([x0, x1], [y0, y1], color='red', linestyle=':', label='Reta de Margem +1')\n",
        "\n",
        "#2 pontos da reta de margem\n",
        "# ax+by-c = -1\n",
        "x0 = 2\n",
        "y0 = (-1+c - a*x0)/b\n",
        "x1 = 10\n",
        "y1 = (-1+c - a*x1)/b\n",
        "plt.plot([x0, x1], [y0, y1], color='red', linestyle=':', label='Reta de Margem -1')\n",
        "\n",
        "#Ponto verde adicional, para exemplificar\n",
        "plt.scatter([9.5], [7.6], color='green', alpha=0.5)\n",
        "\n",
        "# Adicionar rótulos e título\n",
        "plt.axis([2, 10, 2, 10])\n",
        "plt.xlabel('Nota Matemática')\n",
        "plt.ylabel('Nota Português')\n",
        "plt.legend(title='Universidade')\n",
        "plt.show()"
      ]
    },
    {
      "cell_type": "markdown",
      "metadata": {
        "id": "hR0JiUhpfLZU"
      },
      "source": [
        "\n",
        "\n",
        "---\n",
        "\n"
      ]
    },
    {
      "cell_type": "markdown",
      "metadata": {
        "id": "183lPotfcd1k"
      },
      "source": [
        "### ❗Exercício 2 ❗\n",
        "\n",
        "A distância entre dois hiperplanos (retas) definidos por $\\vec{w}^T\\vec{x}-c=1$ e $\\vec{w}^T\\vec{x}-c=-1$ pode ser calculado como\n",
        "$$\n",
        "d(\\vec{w}) = \\frac{2}{\\|\\vec{w}\\|},\n",
        "$$\n",
        "onde $\\|\\vec{w}\\|^2=\\vec{w}^T\\vec{w}=\\sum_{i=1}^{p}w_i^2$  é a norma 2 ao quadrado dos coeficientes que definem o hiperplano (reta).\n",
        "\n",
        "No nosso exemplo no plano, temos $\\vec{w}=(a,b)$, $\\vec{x}=(x,y)$ e as retas\n",
        "$$\n",
        "ax+by-c=\\pm 1.\n",
        "$$\n",
        "1. Verifique (demonstre) que no caso do plano realmente podemos calcular a distância entre as retas como $\\frac{2}{\\|(a,b)\\|}$. Dica: as retas são paralelas e o vetor $\\vec{w}$ é normal às retas!!\n",
        "2. Faça um código que calcule a distância entre as retas. Calcule as distâncias entre as retas nos dois exemplos anteriores e confirme que o segundo exemplo tem margem maior que o primeiro.\n",
        "3. Varie os valores de $a$, $b$ e $c$ e tente buscar algum caso onde a distância entre as retas aumenta e ainda conseguimos separar os dois grupos. É possível achar um hiperplano de separação mais \"largo\" que o ilustrado acima?"
      ]
    },
    {
      "cell_type": "code",
      "execution_count": null,
      "metadata": {
        "id": "HwKsRIHce1rF"
      },
      "outputs": [],
      "source": [
        "# Coloque seu código aqui"
      ]
    },
    {
      "cell_type": "markdown",
      "metadata": {
        "id": "ikbdT4ITe3xu"
      },
      "source": [
        "Coloque as respostas/deduções/comentários.\n",
        "\n",
        "1.\n",
        "\n",
        "2.\n",
        "\n",
        "3.\n"
      ]
    },
    {
      "cell_type": "markdown",
      "metadata": {
        "id": "eVaWSlTnX1EK"
      },
      "source": [
        "\n",
        "\n",
        "---\n",
        "\n"
      ]
    },
    {
      "cell_type": "markdown",
      "metadata": {
        "id": "tJNwTpWUXK8V"
      },
      "source": [
        "## Support Vector Machine"
      ]
    },
    {
      "cell_type": "markdown",
      "metadata": {
        "id": "CYyBuAWcfSVs"
      },
      "source": [
        "O algoritmo de Support Vector Machine (SVM) é um método usado em machine learning proposto na decada de 1990 para fazer classificação superviosionada de dados. O método é supervisionado por precisar de um treinamento com uma base de dados para depois poder ser usado para classificar novos dados."
      ]
    },
    {
      "cell_type": "markdown",
      "metadata": {
        "id": "ZM6PzoEFf7CF"
      },
      "source": [
        "O método geral tem muitos detalhes técnicos, então aqui vamos discutir alguns casos mais específicos, com algumas suposições (depois vamos tentar relaxar algumas dessas hipóteses):"
      ]
    },
    {
      "cell_type": "markdown",
      "metadata": {
        "id": "g3btr2wXX2Qn"
      },
      "source": [
        "- Para a construção do modelo (treinamento), assumimos dados $\\vec{x}_1,\\dots,\\vec{x}_n$, com $\\vec{x}_n \\in \\mathbb{R}^p$, com respectivas classificações $y_1, y_2,...y_n$, que para simplificar, vamos assumir $y_i=\\pm1$.\n",
        "- Vamos supor que existe um hiperplano ${w}^T{x}-c=0$ em $\\mathbb{R}^p$ que separa os dados $\\vec{x}_1,\\dots,\\vec{x}_n$. Isto é, os dados $\\vec{x}_i$ que possuem a classificação $y_i=1$ ficam de um dos lados do hiperplano enquanto os dados que possuem a classificação $y_i=-1$ ficam do outro lado.\n",
        "- Vamos supor, sem perda de generalidade, que todos os pontos que estão \"do lado de cima\" do hiperplano, isto é, os $\\vec{x}_i$ com $w^T\\vec{x}_i-c>0$ são tais que $w^T\\vec{x}_i-c\\geq1$ (por que podemos fazer esta suposição sem perda de generalidade?). Do mesmo modo, os pontos que estão \"do lado de baixo\" do hiperplano são todos tais que $w^T\\vec{x}_i-c\\leq-1$. Sem perda de generalidade vamos supor que os vetores \"do lado de cima\" estão classificados com $y_i=+1$ e os do lado de baixo por $y_i=-1$.\n",
        "\n",
        "Um bom classificador é aquele em que esta região que não possui dados, isto é, a região compreendida entre os hiperplano $w^Tx-c=1$ e $w^Tx-c=-1$ é a maior possível. Utilizando a fórmula de distância entre dois (hiper)planos encontramos que esta distância é dada por:\n",
        "$$\\frac{2}{\\sqrt{w^Tw}}.$$\n",
        "\n",
        "Nosso problema de otimização é, dentre todos os hiperplanos $w^Tx-c=0$ que classificam corretamente os dados nas condições descritas acima, encontrar aquele que maximiza a quantidade $\\frac{2}{\\sqrt{w^Tw}}$. Convença-se que, de forma equivalente, podemos minimizar $\\frac{w^Tw}{2}$. Ou seja, o problema de interesse pode ser escrito como:\n",
        "\n",
        ">\\begin{array}{ll}\n",
        "\\mbox{Minimizar}_{w\\in\\mathbb{R}^p, c\\in\\mathbb{R}}&\\frac{1}{2}w^Tw,\\\\\n",
        "\\mbox{tal que}&y_i(w^T\\vec{x}_i-c)\\geq1, i=1,\\dots,n.\n",
        "\\end{array}\n",
        "\n",
        "\n",
        "Ou seja, isto é o mesmo que dizer que quando $y_i=1$, o ponto $\\vec{x}_i$ tem que estar bem classificado acima do hiperplano ($w^T\\vec{x}_i-c\\geq1$) e quando $y_i=-1$ o ponto $\\vec{x}_i$ tem que estar bem classificado abaixo do hiperplano ($w^T\\vec{x}_i-c\\leq-1$).\n",
        "\n",
        "Este é um problema de otimização quadrática convexa. A função objetivo a ser minimizada é uma função quadrática e convexa e as restrições são dadas por funções lineares das variáveis $w$ e $c$. Este tipo de problema pode ser resolvido por uma variação do método de Newton que veremos abaixo.\n",
        "\n",
        "Mais detalhes sobre SVMs podem ser encontrados aqui:\n",
        "- https://alex.smola.org/papers/2004/SmoSch04.pdf\n",
        "---\n"
      ]
    },
    {
      "cell_type": "markdown",
      "metadata": {
        "id": "K8wBdGikyoXG"
      },
      "source": [
        "\n",
        "#### Minimização com Método de Newton\n",
        "\n",
        "Vamos relembrar o que sabemos dos cursos de cálculo a respeito do problema de minimizar uma função objetivo $f(z), z\\in\\mathbb{R}^N$ com restrições $h_1(z)=0, \\dots, h_m(z)=0$. Sob certas condições de regularidade e diferenciabilidade das funções, sabemos que em uma solução $z^*$ deste problema o gradiente da função objetivo $f$ em $z^*$ é uma combinação linear dos gradientes das restrições em $z^*$. Isto é, existem os chamados multiplicadores de Lagrange $\\lambda_1, \\dots, \\lambda_m\\in\\mathbb{R}$ tais que\n",
        "$$\\nabla f(z^*)+\\sum_{i=1}^m\\lambda_i\\nabla h_i(z^*)=0.$$\n",
        "\n",
        "Quando não há restrição alguma no problema, esta condição se reduz a $\\nabla f(z^*)=0$. Quando tratamos de restrições de desigualdade, digamos, o problema de minimizar uma função $f(z), z\\in\\mathbb{R}^N$, restrito a que algumas componentes de $z$ sejam não negativas, isto é, $z_i\\geq0, i\\in S$, onde $S\\subseteq\\{1,\\dots,N\\}$, pode-se mostrar que em uma solução $z^*$, a componente $i$ do gradiente de $f$ em $z^*$ deve ser não-negativa quando $i\\in S$ e $z_i^*=0$, devendo se anular nos demais índices.\n",
        "\n",
        "Por exemplo, o problema de minimizar a função $f(z)=(z+1)^2$ restrita a $z\\geq0$ tem $z^*=0$ como solução, e vale que a derivada $f'(z^*)=2\\geq0$, enquanto a função $f(z)=(z-1)^2$ restrita a $z\\geq0$ tem $z^*=1$ como solução e derivada $f'(z^*)=0$."
      ]
    },
    {
      "cell_type": "code",
      "execution_count": null,
      "metadata": {
        "id": "4DHy8Cfrypep"
      },
      "outputs": [],
      "source": [
        "t = np.arange(0.0, 5.0, 0.01)\n",
        "\n",
        "plt.figure()\n",
        "\n",
        "plt.subplot(221)\n",
        "s = (t-1)*(t-1)\n",
        "\n",
        "plt.plot(t, s)\n",
        "plt.title('mínimo em $z>0$ (derivada nula)   ')\n",
        "\n",
        "plt.subplot(222)\n",
        "s = (t+1)*(t+1)\n",
        "\n",
        "plt.plot(t, s)\n",
        "plt.title('   mínimo em $z=0$ (derivada não-negativa)')\n",
        "\n",
        "plt.subplots_adjust(top=0.92, bottom=0.08, left=0.10, right=0.95, hspace=0.25,\n",
        "                    wspace=0.35)\n",
        "\n",
        "plt.show()"
      ]
    },
    {
      "cell_type": "markdown",
      "metadata": {
        "id": "sqZJGbPcixue"
      },
      "source": [
        "Então, em geral, podemos dizer que para o problema de minimizar $f(z), z\\in\\mathbb{R}^N$ com a restrição que $z_i\\geq0$ para $i\\in S\\subseteq\\{1,\\dots,N\\}$, se $z^*$ é uma solução então vale que $\\nabla f(z^*)=\\mu$, onde $\\mu_i\\geq0, i=1,\\dots,N$ com $\\mu_i=0$ se $i\\not\\in S$ e $\\mu_iz^*_i=0$, $i\\in S$. Isto é, em $S$, $\\mu_i$ deve ser forçado em zero apenas quando $z_i^*>0$, e no caso em que $z_i^*=0$, não deve haver restrição adicional além de $\\mu_i\\geq0$.\n",
        "\n",
        "Combinando as duas ideias, considerando o problema:\n",
        "\n",
        "\\begin{array}{lll}\n",
        "\\mbox{Minimizar}&f(z),&\\\\\n",
        "\\mbox{tal que}&h_i(z)=0,& i=1,\\dots,m,\\\\\n",
        "& z_i\\geq0,& i\\in S\\subseteq\\{1,\\dots,N\\},\n",
        "\\end{array}\n",
        "\n",
        "pode-se mostrar que, sob certas condições, em uma solução $z^*$ devem existir multiplicadores de Lagrange $\\lambda_1\\in\\mathbb{R},\\dots,\\lambda_m\\in\\mathbb{R}$ e $\\mu\\in\\mathbb{R}^N$ tais que (condições de Lagrange):\n",
        "\n",
        "\\begin{eqnarray*}\n",
        "h_i(z^*)=0, & \\, i=1,\\dots,m,\\\\\n",
        "z_i^*\\geq0, & i\\in S,\\\\\n",
        "\\nabla f(z^*)+\\sum_{i=1}^m\\lambda_i\\nabla h_i(z^*)=\\mu, & \\mu\\geq0,\\\\\n",
        "\\mu_i=0, &i\\not\\in S,\\\\\n",
        "\\mu_iz^*_i=0, & i\\in S.\n",
        "\\end{eqnarray*}\n",
        "\n",
        "A notação $\\mu\\geq0$ ($\\mu>0$) significa que todas as componentes de $\\mu$ são $\\geq0$ ($>0$). De volta ao nosso problema de classificação, vamos descrevê-lo da seguinte forma:\n",
        "\n",
        "\\begin{array}{ll}\n",
        "\\mbox{Minimizar}_{w\\in\\mathbb{R}^p, c\\in\\mathbb{R}, s\\in\\mathbb{R}^n}&\\frac{1}{2}w^Tw,\\\\\n",
        "\\mbox{tal que}&y_i(w^T\\vec{x}_i-c)-s_i=1, i=1,\\dots,n,\\\\\n",
        "&s_i\\geq0, i=1,\\dots,n.\n",
        "\\end{array}\n",
        "\n",
        "Aqui simplesmente enxergamos cada desigualdade $g(z)\\geq1$ através de uma variável de folga $s$ impondo $g(z)-s=1$ e $s\\geq0$, o que descreve o problema de forma equivalente.\n",
        "\n",
        "Neste caso, como as restrições são lineares nas variáveis (note que, no nosso problema, temos $z=(w,c,s)\\in\\mathbb{R}^p\\times\\mathbb{R}\\times\\mathbb{R}^n$), e a função objetivo é uma quadrática convexa, é conhecido que as condições de Lagrange descritas acima são necessárias e suficientes para que $z^*$ seja uma solução do problema.\n",
        "\n",
        "Para descrever o sistema de Lagrange, vamos utilizar as expressões descritas acima com $f(w,c,s)=\\frac{1}{2}w^Tw$ e $h_i(w,c,s)=y_i(w^T\\vec{x}_i-c)-s_i-1, i=1,\\dots,n$, considerando que das variáveis $(w,c,s)$, apenas $s$ tem as restrições de sinal $s_i\\geq0, i=1,\\dots,n$. A parte central das condições de Lagrange consiste nas equações:\n",
        "$$\\left(\\begin{array}{c}\\nabla_w f(w,c,s)\\\\ \\nabla_c f(w,c,s)\\\\ \\nabla_s f(w,c,s)\\end{array}\\right)+\\sum_{i=1}^n\\lambda_i\\left(\\begin{array}{c}\\nabla_w h_i(w,c,s)\\\\ \\nabla_c h_i(w,c,s)\\\\ \\nabla_s h_i(w,c,s)\\end{array}\\right)=\\left(\\begin{array}{c}0\\\\ 0\\\\ \\mu\\end{array}\\right).$$\n",
        "\n",
        "Note que um multiplicador $\\mu\\geq0$ deve aparecer no lado direito apenas associado com as variáveis que estão sujeitas à restrição de sinal, ou seja, $s$. Para as demais variáveis o valor resultante deve ser zero, conforme explicado anteriormente.\n",
        "\n",
        "Calculando as derivadas e complementando com as demais restrições, montamos o nosso sistema não linear de Lagrange conforme abaixo:\n",
        "\n",
        "\\begin{array}{c}\n",
        "\\mbox{viabilidade primal:}\\\\\n",
        "(1)\\quad y_i(w^T\\vec{x}_i-c)-s_i-1=0, i=1,\\dots,n,\\\\\n",
        "s_i\\geq0, i=1,\\dots,n,\\\\[0.5cm]\n",
        "\\mbox{derivada com respeito a $w$:}\\\\\n",
        "(2)\\quad w+\\sum_{i=1}^n\\lambda_iy_i\\vec{x}_i=0,\\\\[0.5cm]\n",
        "\\mbox{derivada com respeito a $c$:}\\\\\n",
        "(3)\\quad -\\sum_{i=1}^n\\lambda_iy_i=0\\\\[0.5cm]\n",
        "\\mbox{derivada com respeito a $s$ (igual a $\\mu$):}\\\\\n",
        "(4)\\quad -\\lambda_j-\\mu_j=0, j=1,\\dots,n,\\\\[0.5cm]\n",
        "\\mbox{viabilidade dual:}\\\\\n",
        "\\mu_j\\geq0, j=1,\\dots,n,\\\\[0.5cm]\n",
        "\\mbox{complementaridade:}\\\\\n",
        "(5)\\quad\\mu_js_j-r=0, j=1,\\dots,n, \\mbox{com } r=0.\n",
        "\\end{array}\n",
        "\n",
        "\n",
        "Note que a única não linearidade deste sistema consiste na restrição de complementaridade $\\mu_js_j=0$. Esta restrição dá um sabor \"combinatório\" ao problema já que ela apenas diz que uma ou outra variável deve se anular. Esta restrição traz algumas dificuldades para a aplicação direta do método de Newton e por isso aliviamos este aspecto ao incorporar o parâmetro $r>0$, transformando a equação em $\\mu_js_j-r=0$. A ideia é reduzir $r$ gradativamente para zero após cada iteração de Newton mantendo as variáveis $\\mu_j$ e $s_j$ estritamente positivas (ou seja, \"interiores\"). Isto funciona melhor na prática do que aplicar Newton diretamente e está associado a uma teoria rica dos chamados métodos de pontos interiores. Em particular, pode-se provar que o número de iterações necessárias para encontrar uma solução com precisão $\\varepsilon>0$ é da ordem de $\\sqrt{n}\\log\\left(\\frac{1}{\\varepsilon}\\right)$."
      ]
    },
    {
      "cell_type": "markdown",
      "metadata": {
        "id": "sswJkKMEqqmm"
      },
      "source": [
        "\n",
        "Sendo mais específico, vamos aplicar o método de Newton a este sistema de equações (e inequações) usando a estratégia dos conhecidos **Métodos de Pontos interiores** para minimizar funções com restrições, da seguinte forma:\n",
        "\n",
        "1. Primeiro, tomamos um chute inicial $w_0\\in\\mathbb{R}^p$, $c_0\\in\\mathbb{R}$ e $0<s_0\\in\\mathbb{R}^n$ para as variáveis primais e $\\lambda_0\\in\\mathbb{R}^n$,$0<\\mu_0\\in\\mathbb{R}^n$ para as variáveis duais.\n",
        "2. O valor $r$ inicial será considerado como um parâmetro e será inicializado como $r=\\frac{\\mu_0^Ts_0}{n}>0$, que será reduzido após cada iteração de Newton ($r:=\\gamma r$, para algum $0<\\gamma<1$).\n",
        "3. Dada uma aproximação $z_k\\in\\mathbb{R}^N$ para a solução do sistema não linear $F(z)=0\\in\\mathbb{R}^N$, as iterações do método de Newton consistem em resolver o sistema linear $F'(z^k)d=-F(z^k)$, onde $F'(z^k)$ é a matriz Jacobiana de $F$ em $z^k$, e em seguida atualizar $z^{k+1}=z^k+d$. No nosso problema, as variáveis são $z^k=(w^k,c^k,s^k,\\lambda^k,\\mu^k)$. Da mesma forma, $d=(d_w,d_c,d_s,d_\\lambda,d_\\mu)$.\n",
        "4. Precisamos nos lembrar das restrições de desigualdade $\\mu\\geq0$ e $s\\geq0$. Para isso, vamos corrigir a atualização das variáveis utilizando a expressão $z^{k+1}=z^k+td$ para algum $t>0$ que garanta $s^{k+1}>0$ e $\\mu^{k+1}>0$. Para isso, vamos tomar $t$ como sendo o maior número tal que $s^k+td_s\\geq0$ e $\\mu^k+td_\\mu\\geq0$. A atualização é feita então com $z^{k+1}=z^k+0.99td$.\n",
        "\n",
        "Escrevendo o sistema de Newton para o nosso problema, temos as equações abaixo:\n",
        "\n",
        "$$\n",
        "\\mbox{derivada de (1)}\\\\\n",
        "\\left(\\begin{array}{cccc}\\begin{array}{cc}y_1\\vec{x}_1^T&-y_1\\\\ \\vdots&\\vdots\\\\ y_n\\vec{x}_n^T&-y_n\\\\\\end{array}&-I&0&0\\end{array}\\right)\\left(\\begin{array}{c}d_w\\\\d_c\\\\d_s\\\\d_\\lambda\\\\d_\\mu\\end{array}\\right)=\\left(\\begin{array}{c}-y_1(w^T\\vec{x}_1-c)+s_1+1\\\\ \\vdots\\\\-y_n(w^T\\vec{x}_n-c)+s_n+1\\end{array}\\right)$$\n",
        "\n",
        "$$\n",
        "\\mbox{derivada de (2) e (3)}\\\\\n",
        "\\left(\\begin{array}{ccccccc}I&0&0&y_1\\vec{x}_1&\\dots&y_n\\vec{x}_n&0\\\\\n",
        "0&0&0&-y_1&\\dots&-y_n&0\\end{array}\\right)\\left(\\begin{array}{c}d_w\\\\d_c\\\\d_s\\\\d_{\\lambda_1}\\\\ \\vdots\\\\ d_{\\lambda_n}\\\\d_\\mu\\end{array}\\right)=\\left(\\begin{array}{c}-w-\\sum_{i=1}^n\\lambda_iy_i\\vec{x}_i\\\\ \\sum_{i=1}^n\\lambda_iy_i\\end{array}\\right)\n",
        "$$\n",
        "\n",
        "$$\n",
        "\\mbox{derivada de (4)}\\\\\n",
        "\\left(\\begin{array}{ccccc}0&0&0&-I&-I\\end{array}\\right)\\left(\\begin{array}{c}d_w\\\\d_c\\\\d_s\\\\d_{\\lambda}\\\\d_\\mu\\end{array}\\right)=\\lambda+\\mu$$\n",
        "\n",
        "$$\n",
        "\\mbox{derivada de (5)}\\\\\n",
        "\\left(\\begin{array}{ccccc}0&0&\\left[\\begin{array}{ccc}\\mu_1&&\\\\\n",
        "&\\ddots&\\\\\n",
        "&&\\mu_n\\end{array}\\right]&0&\\left[\\begin{array}{ccc}s_1&&\\\\\n",
        "&\\ddots&\\\\\n",
        "&&s_n\\end{array}\\right]\\end{array}\\right)\\left(\\begin{array}{c}d_w\\\\d_c\\\\d_s\\\\d_\\lambda\\\\d_\\mu\\end{array}\\right)=\\left(\\begin{array}{c}-\\mu_1s_1+r\\\\ \\vdots\\\\ -\\mu_ns_n+r\\end{array}\\right)$$\n",
        "\n",
        "Note que este é um sistema linear com $3n+p+1$ equações e $3n+p+1$ variáveis. Matricialmente, temos\n",
        "\n",
        "$$\n",
        "\\left(\\begin{array}{c}YX&-y&-I&0&0\\\\\n",
        "I&0&0&X^TY^T&0\\\\\n",
        "0&0&0&-y^T&0\\\\\n",
        "0&0&0&-I&-I\\\\\n",
        "0&0&M&0&S\\end{array}\\right)\n",
        "\\left(\\begin{array}{c}d_w\\\\d_c\\\\d_s\\\\d_\\lambda\\\\d_\\mu\\end{array}\\right)=\n",
        "\\left(\\begin{array}{c}-YXw+y^Tec+s+e\\\\-w-\\lambda^T X^TY^T\\\\\n",
        "\\lambda^Ty\\\\\n",
        "\\lambda+\\mu\\\\\n",
        "-\\mu^Ts+r\\end{array}\\right),\n",
        "$$\n",
        "\n",
        "onde $e$ é o vetor de um's, $X$ é a matrix $n\\times p$ onde cada linha é um ponto $\\vec{x}_i$ da amostra, $Y$ é a matriz diagonal com o vetor $y$ na diagonal, $M$ é a matriz diagonal com o vetor $\\mu$ na diagonal e $S$ é a matriz diagonal com o vetor $s$ na diagonal.\n",
        "\n",
        "Referência:\n",
        "- https://www.maths.ed.ac.uk/~gondzio/reports/ipmXXV.pdf"
      ]
    },
    {
      "cell_type": "markdown",
      "metadata": {
        "id": "6IstA8M224FT"
      },
      "source": [
        "#### Nossa Implementação"
      ]
    },
    {
      "cell_type": "code",
      "execution_count": null,
      "metadata": {
        "id": "K4t9evCo1Bab"
      },
      "outputs": [],
      "source": [
        "def F(X, y, w, c, lam, mu, s, r):\n",
        "  # Recebe:\n",
        "  # X - matrix (n x p) com cada linha uma amostra/ponto diferente (x_i), e cada ponto tendo dimensão \"p\".\n",
        "  # y - vetor (n x 1) com classificação dos pontos +-1 para cada ponto\n",
        "  # w - vetor (p x 1) com os pesos para a equação do hiperplano\n",
        "  # c - constante do hiperplano\n",
        "  # lam - vetor (n x 1) dos multiplicadores de Lagrange (variável auxiliar)\n",
        "  # mu  - vetor (n x 1) multiplicadores (variável auxiliar)\n",
        "  # s - vetor (n x 1) vetor de variáveis de folga (variável auxiliar)\n",
        "  # r - escalar auxiliar\n",
        "  #\n",
        "  # Devolve o vetor da função F(z) que queremos achar o zero.\n",
        "  # Observação z=[w,c,s,lam,mu]\n",
        "  #  Vetor  : F(z)\n",
        "\n",
        "  #Matriz de dados\n",
        "  n, p = X.shape\n",
        "\n",
        "  y = y.reshape(n,1)\n",
        "\n",
        "  yr = np.repeat( y, p, axis=1 )\n",
        "  YX = np.multiply(yr, X)\n",
        "\n",
        "  lamYXt = np.dot(lam.T, YX).T\n",
        "  wtX = np.dot(w.T, X.T).reshape(n,1)\n",
        "  lamy = np.dot(lam.T, y).reshape(1, 1)\n",
        "\n",
        "  # F(z)\n",
        "  Fz = np.block([\n",
        "    [y*(wtX-c)-s-1],\n",
        "    [w+lamYXt],\n",
        "    [-lamy],\n",
        "    [-lam-mu],\n",
        "    [mu*s-r]\n",
        "  ])\n",
        "\n",
        "  # Retorna o valor da função que queremos achar o zero.\n",
        "  return Fz"
      ]
    },
    {
      "cell_type": "code",
      "execution_count": null,
      "metadata": {
        "id": "G30eqgJfy_y_"
      },
      "outputs": [],
      "source": [
        "def sistema_newton(X, y, w, c, lam, mu, s, r):\n",
        "  # Recebe:\n",
        "  # X - matrix (n x p) com cada linha uma amostra/ponto diferente (x_i), e cada ponto tendo dimensão \"p\".\n",
        "  # y - vetor (n x 1) com classificação dos pontos +-1 para cada ponto\n",
        "  # w - vetor (p x 1) com os pesos para a equação do hiperplano\n",
        "  # c - constante do hiperplano\n",
        "  # lam - vetor (n x 1) dos multiplicadores de Lagrange (variável auxiliar)\n",
        "  # mu  - vetor (n x 1) multiplicadores (variável auxiliar)\n",
        "  # s - vetor (n x 1) vetor de variáveis de folga (variável auxiliar)\n",
        "  # r - escalar auxiliar\n",
        "  #\n",
        "  # Devolve Solução do sistema do método de Newton com direções na ordem\n",
        "  # [dw,\n",
        "  #  dc,\n",
        "  #  ds,\n",
        "  #  dlam,\n",
        "  #  dmu]\n",
        "\n",
        "  # Observação z=[w,c,s,lam,mu]\n",
        "  #  Matriz : F'(z)\n",
        "  #  Vetor  : F(z)\n",
        "  # onde F' é a Jacobiana do problema de Newton e F é a função que queremos encontrar o zero.\n",
        "  # O sistema linear resolvido é F'(z) d = - F(z)\n",
        "\n",
        "  #Montar a matrix para o método de Newton\n",
        "  n, p = X.shape\n",
        "\n",
        "  y = y.reshape(n,1)\n",
        "\n",
        "  yr = np.repeat( y, p, axis=1 )\n",
        "  YX = np.multiply(yr, X)\n",
        "\n",
        "  Onxn = np.zeros((n,n))\n",
        "  Opxn = np.zeros((p,n))\n",
        "  Onxp = np.zeros((n,p))\n",
        "  Opx1 = np.zeros((p,1))\n",
        "  O1xp = np.zeros((1,p))\n",
        "  O1xn = np.zeros((1,n))\n",
        "  Onx1 = np.zeros((n,1))\n",
        "  Inxn = np.eye(n)\n",
        "  Ipxp = np.eye(p)\n",
        "  M = np.diag(mu.reshape(n))\n",
        "  S = np.diag(s.reshape(n))\n",
        "\n",
        "  #Matrix\n",
        "  A=np.block([\n",
        "      [YX,  -y,   -Inxn,   Onxn,   Onxn],\n",
        "      [Ipxp, Opx1, Opxn,   YX.T,   Opxn],\n",
        "      [O1xp, 0,    O1xn,   -y.T,   O1xn],\n",
        "      [Onxp, Onx1, Onxn,  -Inxn,  -Inxn],\n",
        "      [Onxp, Onx1,    M,   Onxn,   S   ]\n",
        "      ])\n",
        "\n",
        "\n",
        "  #Resolve sistema linear usando Numpy\n",
        "  z = np.linalg.solve(A, -F(X, y, w, c, lam, mu, s, r))\n",
        "\n",
        "  dw = z[:p]\n",
        "  dc = z[p]\n",
        "  ds = z[p+1:p+1+n]\n",
        "  dlam = z[p+1+n:p+1+2*n]\n",
        "  dmu = z[p+1+2*n:p+1+3*n]\n",
        "\n",
        "  # Retorna solução do sistema linear (incremento do passo de Newton)\n",
        "  return dw, dc, ds, dlam, dmu"
      ]
    },
    {
      "cell_type": "code",
      "execution_count": null,
      "metadata": {
        "id": "P89HMFCHogHX"
      },
      "outputs": [],
      "source": [
        "# Método de pontos interiores\n",
        "\n",
        "def pontos_interiores_SVM(X, y, tolresid = 1e-12, itmax = 1000):\n",
        "  #\n",
        "  # Recebe:\n",
        "  #  X : matriz nxp de dados\n",
        "  #  y : vetor nx1 de classificações +-1\n",
        "  #\n",
        "  #  Opcionais:\n",
        "  #  tolresid : critério de parada (tolerância do resíduo - valor de ||F(z)||)\n",
        "  #  itmax    : máximo de iterações\n",
        "  #\n",
        "  # Retorna:\n",
        "  #  w  : vetor de definição do hiperplano\n",
        "  #  c  : constante associada ao hiperplano de separação\n",
        "  #\n",
        "\n",
        "  #Inicialização - dimensões\n",
        "  n, p = X.shape\n",
        "\n",
        "  #Chute inicial para hiperplano (zero)\n",
        "  w = np.zeros(p).reshape(p,1)\n",
        "  c = 0\n",
        "\n",
        "  # Chute inicial das variáveis auxiliares\n",
        "\n",
        "  # Vetor de folga\n",
        "  s = np.ones(n).reshape(n,1)\n",
        "\n",
        "  #Multiplicadores\n",
        "  mu = np.ones(n).reshape(n,1)\n",
        "  lam = np.zeros(n).reshape(n,1)\n",
        "\n",
        "  # Parâmetro inicial de controle da complementaridade\n",
        "  r = np.matmul(s.T,mu)/n\n",
        "\n",
        "\n",
        "  # Loop principal do Método\n",
        "\n",
        "  #Iteração\n",
        "  resid = 1\n",
        "  it = 0\n",
        "  while (resid>tolresid) and (it<itmax):\n",
        "    it=it+1\n",
        "\n",
        "    # Resolver o sistema linear de Newton\n",
        "    dw, dc, ds, dlam, dmu = sistema_newton(X, y, w, c, lam, mu, s, r)\n",
        "\n",
        "    # Imposição das restrições de desigualdades em s e mu\n",
        "    t_s = 1.0\n",
        "    if np.any(ds<0):\n",
        "      t_s = 0.99*np.min(-s[ds<0]/ds[ds<0])\n",
        "    t_mu = 1.0\n",
        "    if np.any(dmu<0):\n",
        "      t_mu = 0.99*np.min(-mu[dmu<0]/dmu[dmu<0])\n",
        "    t = np.min([t_s, t_mu])\n",
        "\n",
        "    # Atualizar as variáveis\n",
        "    w=w+t*dw\n",
        "    c=c+t*dc\n",
        "    s=s+t*ds\n",
        "    lam=lam+t*dlam\n",
        "    mu=mu+t*dmu\n",
        "\n",
        "    # Atualizar o parâmetro r\n",
        "    r=0.2*r\n",
        "\n",
        "    #Cálculo do resíduo no sistema original (com r=0)\n",
        "    resid = np.linalg.norm(F(X, y, w, c, lam, mu, s, 0))\n",
        "\n",
        "    print()\n",
        "    print(\"Iteração: \",  it, \" Resíduo:\", resid)\n",
        "    print(\"  Hiperplano w:\", w.T,\" c:\", c)\n",
        "\n",
        "  print()\n",
        "  print(\"Solução final. Hiperplano w:\", w.T,\" c:\", c)\n",
        "  return w, c\n"
      ]
    },
    {
      "cell_type": "markdown",
      "metadata": {
        "id": "5M0hN2-46CCw"
      },
      "source": [
        "Vamos testar o código com os nossos dados, mas primeiro vamos colocar eles no formato que discutimos na parte do método de pontos interiores, com a matriz X e o vetor y."
      ]
    },
    {
      "cell_type": "code",
      "execution_count": null,
      "metadata": {
        "id": "dX78SStC1vL7"
      },
      "outputs": [],
      "source": [
        "dados = {\n",
        "    'aluno': ['João', 'José', 'Maria', 'Rosa', 'Pedro', 'Carlos', 'Daniel', 'Mario', 'Ronaldo', 'André', 'Gabriel', 'Nelson', 'Cláudia', 'Fábio', 'Cláudio', 'Armando'],\n",
        "    'univ': ['USP', 'USP', 'UNICAMP', 'USP', 'UNICAMP', 'UNICAMP', 'USP', 'UNICAMP', 'USP', 'USP', 'UNICAMP', 'USP', 'USP', 'UNICAMP', 'USP', 'UNICAMP'],\n",
        "    'nota_mat': [9, 10, 7, 10, 3, 6, 9, 7, 7, 5, 3, 8, 9, 5, 6, 5],\n",
        "    'nota_port': [7, 6, 8, 4, 7, 9, 5, 9, 5, 3, 9, 4, 3, 6, 5, 8]\n",
        "}\n",
        "\n",
        "\n",
        "df = pd.DataFrame(dados)\n",
        "x1 = np.array(df['nota_mat'].values)\n",
        "x2 = np.array(df['nota_port'].values)\n",
        "\n",
        "# Transformar nomes das universidade em números +-1\n",
        "df.loc[df[\"univ\"] == \"USP\", \"univ_num\"] = -1\n",
        "df.loc[df[\"univ\"] == \"UNICAMP\", \"univ_num\"] = +1\n",
        "y = np.array(df['univ_num'].values)\n",
        "\n",
        "# Matriz X\n",
        "X = np.array((x1, x2)).transpose()\n",
        "n, p = X.shape\n",
        "\n",
        "# Vetor de classificação y\n",
        "y = y.reshape(n,1)\n",
        "\n"
      ]
    },
    {
      "cell_type": "code",
      "execution_count": null,
      "metadata": {
        "id": "SWiI5QUF4-Hz"
      },
      "outputs": [],
      "source": [
        "# Teste do método de pontos interiores\n",
        "w, c = pontos_interiores_SVM(X, y)"
      ]
    },
    {
      "cell_type": "markdown",
      "metadata": {
        "id": "TcREmFYF8QMe"
      },
      "source": [
        "Vejamos graficamente como ficou a solução encontrada."
      ]
    },
    {
      "cell_type": "code",
      "execution_count": null,
      "metadata": {
        "id": "ue0h1bipgt7c"
      },
      "outputs": [],
      "source": [
        "plt.figure(figsize=(8, 6))\n",
        "\n",
        "# Definir cores com base na variável 'local'\n",
        "cores = {'USP': 'blue', 'UNICAMP': 'red'}\n",
        "\n",
        "# Criar o gráfico de dispersão\n",
        "for local, cor in cores.items():\n",
        "    plt.scatter(df[df['univ'] == local]['nota_mat'], df[df['univ'] == local]['nota_port'], label=local, color=cor, alpha=0.5)\n",
        "\n",
        "#Reta\n",
        "# wx - c = 0, com w= (a, b)\n",
        "a = w[0]\n",
        "b = w[1]\n",
        "#2 pontos da reta principal\n",
        "x0 = 2\n",
        "y0 = (c - a*x0)/b\n",
        "x1 = 10\n",
        "y1 = (c - a*x1)/b\n",
        "plt.plot([x0, x1], [y0, y1], color='green', linestyle='--', label='Reta de Separação')\n",
        "\n",
        "#2 pontos da reta de margem\n",
        "# wx - c = 1,  com w= (a, b)\n",
        "x0 = 2\n",
        "y0 = (1+c - a*x0)/b\n",
        "x1 = 10\n",
        "y1 = (1+c - a*x1)/b\n",
        "plt.plot([x0, x1], [y0, y1], color='red', linestyle=':', label='Reta de Margem +1')\n",
        "\n",
        "#2 pontos da reta de margem\n",
        "# wx - c = -1, com w= (a, b)\n",
        "x0 = 2\n",
        "y0 = (-1+c - a*x0)/b\n",
        "x1 = 10\n",
        "y1 = (-1+c - a*x1)/b\n",
        "plt.plot([x0, x1], [y0, y1], color='red', linestyle=':', label='Reta de Margem -1')\n",
        "\n",
        "\n",
        "# Adicionar rótulos e título\n",
        "plt.axis([2, 10, 2, 10])\n",
        "plt.xlabel('Nota Matemática')\n",
        "plt.ylabel('Nota Português')\n",
        "plt.legend(title='Universidade')\n",
        "plt.show()"
      ]
    },
    {
      "cell_type": "markdown",
      "metadata": {
        "id": "r31SCzfc_dMS"
      },
      "source": [
        "> O que achou da solução? Graficamente, parece realmente que é o hiperplano com a maior margem possível. Veja que a margem \"toca\" alguns pontos (dados), estes pontos são chamados de vetores de suporte (**support vectors**). No nosso exemplo, são os pontos (5,6) ou (7,8) para a margem superior, e o ponto (6,5) para a inferior."
      ]
    },
    {
      "cell_type": "markdown",
      "metadata": {
        "id": "zvSE4X3ZHtQ1"
      },
      "source": [
        "\n",
        "\n",
        "---\n",
        "\n"
      ]
    },
    {
      "cell_type": "markdown",
      "metadata": {
        "id": "0tnXhN8-sHl5"
      },
      "source": [
        "\n",
        "No caso em que os dados não podem ser separados, o modelo precisa incorporar erros, ou seja, o classificador deve ser capaz de classificar errado alguns dos pontos dados. Mas isto deve ocorrer apenas quando estritamente necessário. Um modelo que considera esta possibilidade é o seguinte:\n",
        "\n",
        "\\begin{array}{ll}\n",
        "\\mbox{Minimizar}_{w\\in\\mathbb{R}^p, c\\in\\mathbb{R}, \\varepsilon\\in\\mathbb{R}^n}&\\frac{1}{2}w^Tw+C\\sum_{i=1}^n\\varepsilon_i,\\\\\n",
        "\\mbox{tal que}&y_i(w^T\\vec{x}_i-c)\\geq 1-\\varepsilon_i, i=1,\\dots,n,\\\\\n",
        "&\\varepsilon_i\\geq0, i=1,\\dots,n.\n",
        "\\end{array}\n",
        "A variável $\\varepsilon_i$ permite que o hiperplano classifique errado o dado $\\vec{x}_i$, mas o parâmetro $C\\gg0$ força que isto aconteça o mínimo possível. Em particular, quando os dados são separáveis, um $C$ grande o suficiente força que todos os $\\varepsilon_i$ sejam iguais a zero, recuperando o modelo anterior."
      ]
    },
    {
      "cell_type": "markdown",
      "metadata": {
        "id": "FEwg2rJiMDWU"
      },
      "source": [
        "### 🧩 Exercício 🧩\n",
        "\n",
        "(Opcional)\n",
        "\n",
        "Implemente um método de pontos interiores que considera o modelo acima. Para tanto, você deve incluir as variáveis $\\varepsilon_i$ no sistema não linear de Lagrange, usando as mesmas técnicas ilustradas anteriormente.\n",
        "\n",
        "Teste o seu código com o exemplo anterior, permitindo que agora pequenos erros sejam aceitáveis, e compare com os resultados anteriores."
      ]
    },
    {
      "cell_type": "code",
      "execution_count": null,
      "metadata": {
        "id": "dwrg1WKWMDWV"
      },
      "outputs": [],
      "source": [
        "# Coloque seu código aqui"
      ]
    },
    {
      "cell_type": "markdown",
      "metadata": {
        "id": "gfNMQYBLMDWW"
      },
      "source": [
        "Coloque as respostas/deduções/comentários aqui.\n",
        "\n",
        "\n"
      ]
    },
    {
      "cell_type": "markdown",
      "metadata": {
        "id": "hzKHNMnpHr7K"
      },
      "source": [
        "\n",
        "\n",
        "---\n",
        "\n"
      ]
    },
    {
      "cell_type": "markdown",
      "metadata": {
        "id": "paenGSZ9ALgr"
      },
      "source": [
        "### Implementação \"caixa preta\""
      ]
    },
    {
      "cell_type": "markdown",
      "metadata": {
        "id": "js0ohgFNAQ2a"
      },
      "source": [
        "O propósito dessa atividade do curso é entendermos como funciona um SVM, analisando uma possível implementação, via otimização usando o método dos pontos interiores. Por outro lado, várias bibliotecas oferecem implmentações de algoritmos de SVM, então vamos ver como uma dessas bibliotecas se sai em comparação com o nosso algortimo."
      ]
    },
    {
      "cell_type": "markdown",
      "metadata": {
        "id": "xHfzkBT9A7p3"
      },
      "source": [
        "Usaremos uma biblioteca chamada\n",
        "- **scikit-learn: Machine Learning in Python**\n",
        "\n",
        "Ela possui um módulo de SVM, que pode ser chamado via **import sklearn.svm**.\n",
        "\n",
        "https://scikit-learn.org/stable/modules/classes.html#module-sklearn.svm\n",
        "\n",
        "Vamos usar uma função que resolve o problema de otimização proposto acima chamada **LinearSVC**. A implementação deles sempre leva em conta a \"regularização\" descrita acima, permitindo pequenos erros de classificação, por isso precisamos definir o parâmetro $C$ como sendo muito grande para imitarmos o nosso algoritmo. Com a função \"loss\" escolhida como \"hinge\" o problema resolvido é exatamente o mesmo que apresentamos acima. A diferença é que ele usa um algoritmo que explora melhor a estrutura do problema (em particular, o problema \"dual\" é resolvido).\n",
        "\n",
        "\n",
        "Vejamos uma implementação."
      ]
    },
    {
      "cell_type": "code",
      "execution_count": null,
      "metadata": {
        "id": "WMYTqvB445wd"
      },
      "outputs": [],
      "source": [
        "from sklearn.svm import LinearSVC\n",
        "\n",
        "#Dados (os mesmos de antes)\n",
        "n, p = X.shape\n",
        "x_train = X\n",
        "y_train = y.reshape(n)\n",
        "\n",
        "# Primeiro dizemos que tipo de modelo que queremos (SVM linear)\n",
        "# Colocamos C bem grande, para que ele não permita erros de classificação\n",
        "# a função loss é escolhida como 'hinge' para coincidir com o modelo apresentado\n",
        "model = LinearSVC(loss='hinge',C=1e12, max_iter=10000)\n",
        "\n",
        "# Agora pedimos para ele ajustar o modelo, ou seja,\n",
        "#  resolver o problema de otimização e achar o hiperplano\n",
        "svmfit = model.fit(x_train,y_train)\n",
        "\n",
        "# Esses são os parâmetros do hiperplano ajustado pelo sklearn\n",
        "w_sklearn = svmfit.coef_[0]\n",
        "\n",
        "# **Cuidado**, o nosso c é -c do sklearn!!!\n",
        "c_sklearn = - svmfit.intercept_\n",
        "\n",
        "print(\" w , c \")\n",
        "print(w_sklearn, c_sklearn)\n",
        "\n"
      ]
    },
    {
      "cell_type": "markdown",
      "metadata": {
        "id": "xdGeQE3rIP-d"
      },
      "source": [
        "> Veja como o resultado do $w$ e $c$ ficou similar ao nosso! Vejamos graficamente."
      ]
    },
    {
      "cell_type": "code",
      "execution_count": null,
      "metadata": {
        "id": "ylDOLF-7EVr0"
      },
      "outputs": [],
      "source": [
        "plt.figure(figsize=(8, 6))\n",
        "\n",
        "# Definir cores com base na variável 'local'\n",
        "cores = {'USP': 'blue', 'UNICAMP': 'red'}\n",
        "\n",
        "# Criar o gráfico de dispersão\n",
        "for local, cor in cores.items():\n",
        "    plt.scatter(df[df['univ'] == local]['nota_mat'], df[df['univ'] == local]['nota_port'], label=local, color=cor, alpha=0.5)\n",
        "\n",
        "#Reta\n",
        "# wx - c = 0, com w= (a, b)\n",
        "a = w_sklearn[0]\n",
        "b = w_sklearn[1]\n",
        "\n",
        "#2 pontos da reta principal\n",
        "x0 = 2\n",
        "y0 = (c - a*x0)/b\n",
        "x1 = 10\n",
        "y1 = (c - a*x1)/b\n",
        "plt.plot([x0, x1], [y0, y1], color='green', linestyle='--', label='Reta de Separação')\n",
        "\n",
        "#2 pontos da reta de margem\n",
        "# wx - c = 1, com w= (a, b)\n",
        "x0 = 2\n",
        "y0 = (1+c - a*x0)/b\n",
        "x1 = 10\n",
        "y1 = (1+c - a*x1)/b\n",
        "plt.plot([x0, x1], [y0, y1], color='red', linestyle=':', label='Reta de Margem +1')\n",
        "\n",
        "#2 pontos da reta de margem\n",
        "# wx - c = -1, com w= (a, b)\n",
        "x0 = 2\n",
        "y0 = (-1+c - a*x0)/b\n",
        "x1 = 10\n",
        "y1 = (-1+c - a*x1)/b\n",
        "plt.plot([x0, x1], [y0, y1], color='red', linestyle=':', label='Reta de Margem -1')\n",
        "\n",
        "\n",
        "# Adicionar rótulos e título\n",
        "plt.axis([2, 10, 2, 10])\n",
        "plt.xlabel('Nota Matemática')\n",
        "plt.ylabel('Nota Português')\n",
        "plt.legend(title='Universidade')\n",
        "plt.show()"
      ]
    },
    {
      "cell_type": "markdown",
      "metadata": {
        "id": "vN6J4eKRI_fe"
      },
      "source": [
        "### ❗Exercício 3 ❗\n",
        "\n",
        "Considerando este problema bidimensional de classificação, com esses dados anteriores, faça as seguintes atividades.\n",
        "\n",
        "1. Verifique o que acontece com o número de iterações do método de pontos interiores quando o parâmetro $r$ é inicializado como zero.\n",
        "\n",
        "2. Na implementação do método de pontos interiores, reduzimos o parâmetro $r$ em $80\\%$ a cada iteração de Newton ($r:=\\gamma r$, com $\\gamma=0.2$). Estude o comportamento do algoritmo variando o parâmetro $\\gamma$. Para isso, faça uma tabela do número de iterações em função de $\\gamma$ para algumas escolhas de $\\gamma$.\n",
        "\n",
        "3. Faça um critério de parada mais refinado deixando o algoritmo continuar iterando mesmo quando o critério de parada relativo ao resíduo é atingido. Utilize como critério de parada adicional que a norma da diferença entre duas iterações $\\|z^{k+1}-z^k\\|$ é menor que $10^{-12}$.\n",
        "\n",
        "4. A equação (4) define que o vetor $\\mu$ é igual a $-\\lambda$. Isso significa que podemos reduzir a dimensão do sistema que precisamos resolver, eliminando uma das variáveis $\\lambda$ ou $\\mu$. Copie os códigos anteriores e ajuste a implementação  do método de pontos interiores eliminando a variável $\\lambda$ do problema. Teste o seu método e verifique se a solução coincide com a implementação original."
      ]
    },
    {
      "cell_type": "code",
      "execution_count": null,
      "metadata": {
        "id": "B_bRbErjSdXn"
      },
      "outputs": [],
      "source": [
        "# Coloque seus códigos aqui"
      ]
    },
    {
      "cell_type": "markdown",
      "metadata": {
        "id": "FkiGZtNpkSJk"
      },
      "source": [
        "Comentários/respostas aqui:\n",
        "\n",
        "1.\n",
        "\n",
        "\n",
        "2.\n",
        "\n",
        "\n",
        "3.\n",
        "\n",
        "\n",
        "4.\n",
        "\n"
      ]
    },
    {
      "cell_type": "markdown",
      "metadata": {
        "id": "l0v-IhlgSkFp"
      },
      "source": [
        "\n",
        "\n",
        "---\n",
        "\n"
      ]
    },
    {
      "cell_type": "markdown",
      "metadata": {
        "id": "TQAY4Bkqt-lc"
      },
      "source": [
        "## Trabalhando com textos"
      ]
    },
    {
      "cell_type": "markdown",
      "metadata": {
        "id": "c09OilgQuDvm"
      },
      "source": [
        "Um primeiro desafio de trabalhar com textos é o de como transformar palavras e frases em algo numérico para tratarmos no computador. No que segue vamos discutir uma forma simples de fazer isso, conhecido como \"Bag of Words\" (BOW), que em português trduzimos como \"Saco de Palavras\".\n",
        "\n",
        "Resumidamente, um BOW define uma matriz que relaciona um vocabulário (conjunto de palavras) e conta quantas vezes cada palavra do vocabulário aparece em cada frase, resultando em algo como:\n",
        "\n"
      ]
    },
    {
      "cell_type": "markdown",
      "metadata": {
        "id": "ZmVi-x2cNmD1"
      },
      "source": [
        "\n",
        "| Frases | azul | branco | brilhar | céu | nuvem | sol |\n",
        "|--------|------|--------|---------|-----|-------|-----|\n",
        "|          O céu está azul  |   1   |    0    |    0  |  1   |   0  |  0  |\n",
        "|  As nuvens estão brancas  |   0   |    1    |    0  |  0   |   1  |  0  |\n",
        "|     O sol está brilhando  |   0   |    0    |    1  |  0   |   0  |  1  |"
      ]
    },
    {
      "cell_type": "markdown",
      "metadata": {
        "id": "sL1r2RybOo42"
      },
      "source": [
        "Vamos ver como construir uma BOW?\n",
        "\n",
        "\n",
        "Referências:\n",
        "- https://www.kaggle.com/code/mehmetlaudatekman/text-classification-svm-explained/notebook\n",
        "- https://edisciplinas.usp.br/pluginfile.php/6288975/mod_resource/content/0/Aula%209%20-%20NLTK%20e%20spaCy.pdf"
      ]
    },
    {
      "cell_type": "markdown",
      "metadata": {
        "id": "3YC2U0yfHZJf"
      },
      "source": [
        "### Bag of Words"
      ]
    },
    {
      "cell_type": "markdown",
      "metadata": {
        "id": "6xGrom_pHeVU"
      },
      "source": [
        "Começaremos com um conjunto de frases para exemplificar."
      ]
    },
    {
      "cell_type": "code",
      "execution_count": null,
      "metadata": {
        "id": "ilBUzl4NHeVZ"
      },
      "outputs": [],
      "source": [
        "frases = [\n",
        "    \"O céu está azul\",\n",
        "    \"As nuvens estão brancas\",\n",
        "    \"O sol está brilhando\",\n",
        "    \"Não há ganho sem dor\"\n",
        "]"
      ]
    },
    {
      "cell_type": "markdown",
      "metadata": {
        "id": "SJY8CH9eHeVZ"
      },
      "source": [
        "Para o **Bag of Words**, precisamos pré-processar as frases para considerar apenas palavras \"chaves\". Vamos fazer as seguintes \"limpezas\":\n",
        "- Remover caracteres que não sejam letras (pontuação). Para isso vamos usar Regular Expression ('re') e simplesmente tirar a pontuação das strings.\n",
        "- Desconsideramos as palavras de conexão, conhecidas como **stopwords**, que incluem artigos, pronomes, conjunções, etc. Por exemplo: \"de\", \"a\", \"um\", \"para\". Para fazer isso, vamos usar uma base de stopwords de Português da biblioteca Natural Language Toolkit (NLTK).\n",
        "- Fazer uma **lematização**, isto é, reduzir a palavra à sua forma canônica, levando em conta sua classe gramatical. Ex: estudar: estudando, estudioso, estudei. Nesta parte usaremos a biblioteca SpaCy (Industrial-Strength Natural Language Processing).\n",
        "\n",
        "Os primeiros dois passos são bem simples, bastanto consultar bases de dados existentes de português para saber que símbolos e palavras retirar das frase. A parte de Lematização é bem complicada. Para saber mais sobre Lematização e as bibliotecas SpaCy e NLTK, veja o material a seguir:\n",
        "\n",
        "https://edisciplinas.usp.br/pluginfile.php/6288975/mod_resource/content/0/Aula%209%20-%20NLTK%20e%20spaCy.pdf"
      ]
    },
    {
      "cell_type": "code",
      "execution_count": null,
      "metadata": {
        "id": "Y7uoDLUQHeVZ"
      },
      "outputs": [],
      "source": [
        "# Importar bibliotecas de texto\n",
        "#-----------------------------------\n",
        "\n",
        "# Trabalhar com expressões regulares\n",
        "import re\n",
        "\n",
        "# Vamos usar a biblioeca NLTK  e a biblioteca spaCy para pre-processar textos\n",
        "\n",
        "import nltk # Natural Language Toolkit\n",
        "import spacy # Industrial-Strength Natural Language Processing\n",
        "\n",
        "#Palavras de junção, como artigos, preposições, pronomes e conjunções\n",
        "from nltk.corpus import stopwords\n",
        "nltk.download('stopwords')\n",
        "nltk.download('punkt')\n",
        "swords = nltk.corpus.stopwords.words('portuguese')\n",
        "swords.remove(\"não\")\n",
        "\n",
        "# spaCy - baixar modelos de processamento de texto para Português\n",
        "#    Será usado para a \"lematização\"\n",
        "#!python -m spacy download pt_core_news_sm #modelo pequeno\n",
        "!python -m spacy download pt_core_news_md # médio\n",
        "nlp = spacy.load(\"pt_core_news_md\")\n",
        "#!python -m spacy download pt_core_news_lg #Grande\n",
        "\n",
        "# Contador de texto do SKLEARN - scikit-learn Machine Learning in Python\n",
        "from sklearn.feature_extraction.text import CountVectorizer"
      ]
    },
    {
      "cell_type": "code",
      "execution_count": null,
      "metadata": {
        "id": "7bfIrkZxLn5t"
      },
      "outputs": [],
      "source": [
        "#Palavras de conexão / stopwords\n",
        "print(\"Stopwords:\", swords)"
      ]
    },
    {
      "cell_type": "code",
      "execution_count": null,
      "metadata": {
        "id": "KD0BWjUOHeVZ"
      },
      "outputs": [],
      "source": [
        "# Função que pré-processa frases, considerando:\n",
        "# - Remover caracteres que não sejam letras (pontuação).\n",
        "#          Para isso vamos usar Regular Expression ('re') e simplesmente tirar a pontuação das strings.\n",
        "# - Desconsideramos as palavras de conexão, conhecidas como **stopwords**,\n",
        "#          que incluem artigos, pronomes, conjunções, etc. Por exemplo: \"de\", \"a\", \"um\", \"para\".\n",
        "#          Para fazer isso, vamos usar uma base de stopwords de Português da biblioteca Natural Language Toolkit (NLTK).\n",
        "# - Fazer uma **lematização**, isto é, reduzir a palavra à sua forma canônica,\n",
        "#          levando em conta sua classe gramatical. Ex: estudar: estudando, estudioso, estudei.\n",
        "#          Nesta parte usaremos a biblioteca SpaCy (Industrial-Strength Natural Language Processing).\n",
        "#\n",
        "\n",
        "def limpa_frase(frase):\n",
        "\n",
        "    # Pega apenas letras - inglês\n",
        "    #text = re.sub(\"[^a-zA-Z]\",\" \",frase)\n",
        "\n",
        "    # Tira pontuação\n",
        "    text = re.sub(r\"[^\\w\\s]\",\" \",frase)\n",
        "\n",
        "    # Tokenizing - Separa cada palavra como um elemento de uma lista\n",
        "    # converte tudo em minusculo\n",
        "    text = nltk.word_tokenize(text.lower())\n",
        "\n",
        "    # Removing stopwords - tira palavras de conexão - swords define a lingua\n",
        "    text = [word for word in text if word not in swords]\n",
        "\n",
        "    # Joining - volta para ser uma frase\n",
        "    text = \" \".join(text)\n",
        "\n",
        "    #Lemmatizing - agrupa palavras por sua raiz - inglês\n",
        "    #text = [lemma.lemmatize(word) for word in text]\n",
        "\n",
        "    #Lemmatizing - agrupa palavras por sua raiz - portugues\n",
        "    doc = nlp(text)\n",
        "    text = [token.lemma_ for token in doc if not token.is_punct]\n",
        "\n",
        "    # Joining - volta para ser uma frase\n",
        "    text = \" \".join(text).lower()\n",
        "\n",
        "    return text"
      ]
    },
    {
      "cell_type": "markdown",
      "metadata": {
        "id": "vTGLDVt8HeVZ"
      },
      "source": [
        "Vamos fazer um teste simples do nosso limpador de frase. Notem como ele mudar as palavras para sua forma \"canônica\", com base na sua raiz, neste exemplo com \"pequenas\" virando \"pequeno\", \"coisas\" virando \"coisa\", ..."
      ]
    },
    {
      "cell_type": "code",
      "execution_count": null,
      "metadata": {
        "id": "NW4oteRHHeVZ"
      },
      "outputs": [],
      "source": [
        "frase = \"As pequenas coisas na vida são as que mais nos trazem felicidade.\"\n",
        "print(frase)\n",
        "print(limpa_frase(frase))"
      ]
    },
    {
      "cell_type": "markdown",
      "metadata": {
        "id": "aYhs_4PMHeVZ"
      },
      "source": [
        "Agora vamos passar o limpador em todas as nossas frases."
      ]
    },
    {
      "cell_type": "code",
      "execution_count": null,
      "metadata": {
        "id": "z-Kk3WAfHeVZ"
      },
      "outputs": [],
      "source": [
        "frases_limpo = []\n",
        "\n",
        "for frase in frases:\n",
        "    frases_limpo.append(limpa_frase(frase))\n",
        "\n",
        "print(frases)\n",
        "print(frases_limpo)\n"
      ]
    },
    {
      "cell_type": "markdown",
      "metadata": {
        "id": "ISsPNsFAIFUo"
      },
      "source": [
        "Quais são as palavras que mais aparecem nas nossas frases? Isso é uma noção de **Vocabulário** usado. Poderíamos fazer um código simples em Python para contar isso, mas ele ficaria lento para rodar em bases grandes. Então vamos usar códigos existentes."
      ]
    },
    {
      "cell_type": "code",
      "execution_count": null,
      "metadata": {
        "id": "QLd7ImO0JDwB"
      },
      "outputs": [],
      "source": [
        "# Inicialize o vetorizador CountVectorizer, para contar palavras\n",
        "vectorizer = CountVectorizer()\n",
        "\n",
        "# Alimenta o vetorizador aos dados (construa o vocabulário)\n",
        "vectorizer.fit(frases_limpo)\n",
        "vocab = vectorizer.get_feature_names_out()\n",
        "print(\"Vocabulário:\", vocab)"
      ]
    },
    {
      "cell_type": "markdown",
      "metadata": {
        "id": "1nDXr-7OKMey"
      },
      "source": [
        "Finalmente podemos explicar o que é um Bag of Words!!! Ele é simplesmente uma matriz que cruza nossas frases (linhas) com nosso vocabulário (colunas), indicando quantas vezes cada palavra do vocabulário aparece na frase. Vejamos no exemplo:\n"
      ]
    },
    {
      "cell_type": "code",
      "execution_count": null,
      "metadata": {
        "id": "pEqdMC26KlbS"
      },
      "outputs": [],
      "source": [
        "#Cria o bag_of_words, cruzando as frases e suas contagens em relação ao vocabulário\n",
        "bag_of_words = vectorizer.fit_transform(frases_limpo)\n",
        "\n",
        "# Converta a matriz de bag of words para um DataFrame Pandas\n",
        "df_bag_of_words = pd.DataFrame(bag_of_words.toarray(), columns=vocab)\n",
        "\n",
        "# Adicione uma coluna para representar as frases\n",
        "df_bag_of_words['Frases'] = frases\n",
        "\n",
        "# Reorganize as colunas para ter as frases na primeira coluna\n",
        "colunas = ['Frases'] + list(vocab)\n",
        "df_bag_of_words = df_bag_of_words[colunas]\n",
        "\n",
        "# Imprima a matriz de bag of words\n",
        "print(\"Bag of Words:\")\n",
        "print(df_bag_of_words)"
      ]
    },
    {
      "cell_type": "markdown",
      "metadata": {
        "id": "fdcEDtE9X0FZ"
      },
      "source": [
        "\n",
        "\n",
        "---\n",
        "\n",
        "\n",
        "**Importante**\n",
        "\n",
        "Esse método de Bag-of-words é interessante, mas tem algumas limitações, entre elas:\n",
        "\n",
        "- Note que a matriz gerada ignora a posição da palavra na frase. Então frases distintas podem ter o mesma representação na matriz. Por exemplo,\n",
        "  - \"o mar não está para peixe\", e\n",
        "  - \"no mar tem muito peixe\",\n",
        "  - seriam igual em um vocabulário apenas com \"mar\" e \"peixe\".\n",
        "- Ele não leva em conta o contexto e sua conexão com outras palavras da frase. Por exemplo:\n",
        "  - em \"o gato mia, o cachorro late\",\n",
        "  - miar está associado a gato, e latir a cachorro, mas o BOW não será capaz de capturar isso.\n",
        "\n",
        "- Não leva em conta a frequência que a palavra ocorre em textos.\n",
        "- Quando usado em um modelo de aprendizado de máquina, ele não consegue achar representação para novas palavras que o seu vocabulário nunca viu.\n",
        "\n",
        "Por outro lado, trata-se de um método interessante e simples para termos como primeiro método em um curso de métodos numéricos! Ele é a base para entendermos métodos mais sofisticados."
      ]
    },
    {
      "cell_type": "markdown",
      "metadata": {
        "id": "Hwbi95hUHvkO"
      },
      "source": [
        "\n",
        "\n",
        "---\n",
        "\n"
      ]
    },
    {
      "cell_type": "markdown",
      "metadata": {
        "id": "5hy6dOHYPHt5"
      },
      "source": [
        "### Sentimentos"
      ]
    },
    {
      "cell_type": "markdown",
      "metadata": {
        "id": "w1Ik3_b6ubYh"
      },
      "source": [
        "Agora vamos pensar que cada frase tem a si associado uma emoção, um sentimento. Nesta atividade vamos considerar apenas sentientos positivos (coisas boas) e negativos (coisas ruins). Exemplos de frases:"
      ]
    },
    {
      "cell_type": "code",
      "execution_count": null,
      "metadata": {
        "id": "K1o1_4Csulbb"
      },
      "outputs": [],
      "source": [
        "frases_positivas = [\n",
        "        \"Cada desafio é uma oportunidade.\",\n",
        "    \"O amor está em todos os lugares.\",\n",
        "    \"A esperança nos mantém.\",\n",
        "    \"Um sorriso ilumina o dia.\",\n",
        "    \"A gratidão transforma.\",\n",
        "    \"Empatia nos conecta.\",\n",
        "    \"Paz interior é valiosa.\",\n",
        "    \"Persistência leva ao sucesso.\",\n",
        "    \"Generosidade enriquece.\",\n",
        "    \"Compaixão une corações.\",\n",
        "    \"Amizade é um tesouro.\",\n",
        "    \"Otimismo ilumina o caminho.\",\n",
        "    \"Coragem supera medo.\",\n",
        "    \"Humildade nos ensina.\",\n",
        "    \"Perdão liberta.\",\n",
        "    \"Aceitação traz paz.\",\n",
        "    \"Criatividade é expressão pura.\",\n",
        "    \"Resiliência nos fortalece.\",\n",
        "    \"Fé nos sustenta.\",\n",
        "    \"Beleza está em toda parte.\",\n",
        "    \"Amor é poderoso.\",\n",
        "    \"O Amor é poderoso.\",\n",
        "    \"Simplicidade traz felicidade.\",\n",
        "    \"Inspiração está ao redor.\",\n",
        "    \"Esperança nos eleva.\",\n",
        "    \"Alegria contagia.\",\n",
        "    \"Gentileza é presente.\",\n",
        "    \"Sucesso é autodescoberta.\",\n",
        "    \"Harmonia traz equilíbrio.\",\n",
        "    \"Inspirar é transformar.\",\n",
        "    \"Autoconfiança é vital.\",\n",
        "    \"Positividade ilumina.\",\n",
        "    \"Fé nos guia.\",\n",
        "    \"Resiliência nos levanta.\",\n",
        "    \"Abundância é gratidão.\",\n",
        "    \"Determinação é poder.\",\n",
        "    \"Compreensão une.\",\n",
        "    \"Confiança fortalece.\",\n",
        "    \"Liberdade é essencial.\",\n",
        "    \"Sabedoria é guia.\",\n",
        "    \"Imperfeição é bela.\",\n",
        "    \"Generosidade nutre.\",\n",
        "    \"Autenticidade é vital.\",\n",
        "    \"Paixão nos move.\",\n",
        "    \"Jornada é felicidade.\",\n",
        "    \"Coragem é enfrentar medos.\",\n",
        "    \"Alegria está na jornada.\",\n",
        "    \"Paciência é virtude.\",\n",
        "    \"Gratidão é chave.\",\n",
        "    \"Generosidade é conexão.\",\n",
        "    \"Autenticidade é essencial.\",\n",
        "    \"A vida é cheia de possibilidades emocionantes!\",\n",
        "    \"Sempre há algo para apreciar em cada dia.\",\n",
        "    \"O amor e a bondade estão ao nosso redor, se prestarmos atenção.\",\n",
        "    \"Cada desafio é uma oportunidade para crescer e aprender.\",\n",
        "    \"A esperança é a luz que guia nossos corações em tempos difíceis.\",\n",
        "    \"O sorriso é a linguagem universal da felicidade.\",\n",
        "    \"A gratidão transforma o que temos em suficiente e mais.\",\n",
        "    \"A empatia nos conecta uns aos outros em um nível mais profundo.\",\n",
        "    \"A paz interior é o verdadeiro tesouro da vida.\",\n",
        "    \"A persistência nos leva ao sucesso, passo a passo.\",\n",
        "    \"A generosidade nos enriquece mais do que qualquer riqueza material.\",\n",
        "    \"A compaixão é o alicerce da verdadeira harmonia entre os seres humanos.\",\n",
        "    \"A amizade é um tesouro inestimável que valorizamos ao longo da vida.\",\n",
        "    \"O otimismo nos permite ver o mundo com cores mais brilhantes.\",\n",
        "    \"A coragem nos ajuda a enfrentar nossos medos mais profundos.\",\n",
        "    \"A humildade nos torna receptivos às lições que a vida nos oferece.\",\n",
        "    \"O perdão liberta nosso coração do peso do ressentimento.\",\n",
        "    \"A aceitação nos permite abraçar a nós mesmos e aos outros com amor incondicional.\",\n",
        "    \"A criatividade é a expressão da alma em sua forma mais pura.\",\n",
        "    \"A resiliência nos permite superar os momentos mais difíceis da vida.\",\n",
        "    \"A fé nos dá força para continuar, mesmo quando tudo parece perdido.\",\n",
        "    \"A beleza está em toda parte, se apenas abrirmos os olhos para vê-la.\",\n",
        "    \"O amor é a força mais poderosa do universo, capaz de curar todas as feridas.\",\n",
        "    \"A simplicidade nos lembra que a verdadeira felicidade reside nas coisas mais simples da vida.\",\n",
        "    \"A inspiração está sempre ao nosso redor, se apenas estivermos dispostos a vê-la.\",\n",
        "    \"A esperança nos dá asas para voar, mesmo quando estamos cercados por nuvens escuras.\",\n",
        "    \"A alegria contagiosa deixa uma marca indelével em todos os corações que toca.\",\n",
        "    \"A gentileza é um presente que podemos dar a nós mesmos e aos outros a qualquer momento.\",\n",
        "    \"O sucesso é a jornada de autodescoberta que nos leva além de nossos limites autoimpostos.\",\n",
        "    \"A harmonia é a sinfonia da vida, onde cada nota contribui para a melodia da existência.\",\n",
        "    \"A inspiração é a centelha que acende o fogo da criatividade dentro de nós.\",\n",
        "    \"A autoconfiança é o alicerce sobre o qual construímos nossos sonhos mais grandiosos.\",\n",
        "    \"A positividade é o elixir da vida que nos mantém radiantes, mesmo nos dias mais sombrios.\",\n",
        "    \"A esperança é a estrela-guia que nos guia através das trevas e nos mostra o caminho para a luz.\",\n",
        "    \"A paciência é a virtude que nos permite suportar as tempestades da vida com calma e serenidade.\",\n",
        "    \"A gratidão é a chave que abre as portas para uma vida cheia de amor e abundância.\",\n",
        "    \"A determinação é o motor que nos impulsiona a alcançar as estrelas, mesmo quando todos os outros desistirem.\"\n",
        "]\n",
        "\n",
        "frases_negativas = [\n",
        "        \"Às vezes, a vida parece esmagadora.\",\n",
        "    \"Decepções podem abalar nossa confiança.\",\n",
        "    \"O medo pode nos paralisar.\",\n",
        "    \"Solidão é uma sombra constante.\",\n",
        "    \"A tristeza envolve o coração em trevas.\",\n",
        "    \"Raiva consome nossos pensamentos.\",\n",
        "    \"Ansiedade cria uma prisão mental.\",\n",
        "    \"A dor é uma inevitável companheira.\",\n",
        "    \"Incerteza gera desconforto.\",\n",
        "    \"A culpa é uma âncora pesada.\",\n",
        "    \"Dúvida mina nossa confiança.\",\n",
        "    \"Arrependimento assombra escolhas passadas.\",\n",
        "    \"Preocupação nos consome.\",\n",
        "    \"A Preocupação consome.\",\n",
        "    \"Inveja envenena o coração.\",\n",
        "    \"A amargura corrói de dentro para fora.\",\n",
        "    \"Negatividade se espalha como fogo.\",\n",
        "    \"Desconfiança quebra relacionamentos.\",\n",
        "    \"Decepção abala a confiança.\",\n",
        "    \"Desespero nos afunda.\",\n",
        "    \"Apatia rouba nossa paixão.\",\n",
        "    \"Remorso nos assombra.\",\n",
        "    \"Negação evita a realidade.\",\n",
        "    \"Solidão é um oceano sem fim.\",\n",
        "    \"Confusão nos deixa perdidos.\",\n",
        "    \"Mágoa nos fecha.\",\n",
        "    \"Insegurança paralisa.\",\n",
        "    \"Desconhecido ameaça.\",\n",
        "    \"Perda deixa um vazio.\",\n",
        "    \"Sobrecarga nos sufoca.\",\n",
        "    \"Rotina nos aprisiona.\",\n",
        "    \"Ciclo vicioso nos prende.\",\n",
        "    \"Ignorância dói.\",\n",
        "    \"Mal compreendido nos isola.\",\n",
        "    \"Traição nos machuca.\",\n",
        "    \"Sufocamento nos esmaga.\",\n",
        "    \"Subestimação nos diminui.\",\n",
        "    \"Rejeição dói.\",\n",
        "    \"Julgamento nos fere.\",\n",
        "    \"Abandono nos assusta.\",\n",
        "    \"Desapontamento nos entristece.\",\n",
        "    \"Exclusão nos isola.\",\n",
        "    \"Incompreensão nos confunde.\",\n",
        "    \"Ridículo nos envergonha.\",\n",
        "    \"Menosprezo nos deprecia.\",\n",
        "    \"Subjugação nos oprime.\",\n",
        "    \"Engano nos irrita.\",\n",
        "    \"Manipulação nos faz sentir impotentes.\",\n",
        "   \"Às vezes, a vida pode parecer esmagadora e desanimadora.\",\n",
        "    \"As decepções podem nos fazer questionar nosso próprio valor.\",\n",
        "    \"O medo pode nos paralisar e impedir de alcançar nossos objetivos.\",\n",
        "    \"A solidão pode ser uma companheira sombria nos momentos mais difíceis.\",\n",
        "    \"A tristeza pode envolver nosso coração em uma nuvem escura.\",\n",
        "    \"A raiva pode consumir nossos pensamentos e nos tornar cegos para o amor ao nosso redor.\",\n",
        "    \"A ansiedade pode criar uma prisão em nossa mente, limitando nossa liberdade.\",\n",
        "    \"A dor é uma parte inevitável da vida, mas também pode ser uma oportunidade para crescer.\",\n",
        "    \"A incerteza pode criar um senso de desconforto e insegurança.\",\n",
        "    \"A culpa pode pesar como uma âncora em nossa alma, nos impedindo de seguir em frente.\",\n",
        "    \"A dúvida pode minar nossa confiança e nos impedir de alcançar nossos sonhos.\",\n",
        "    \"O arrependimento pode nos assombrar, lembrando-nos de escolhas passadas que não podemos desfazer.\",\n",
        "    \"A preocupação constante pode nos consumir, roubando-nos a alegria do momento presente.\",\n",
        "    \"A inveja pode envenenar nossos corações, nos fazendo desejar o que os outros têm.\",\n",
        "    \"A amargura pode nos corroer por dentro, transformando-nos em versões sombrias de nós mesmos.\",\n",
        "    \"A negatividade pode se espalhar como uma praga, infectando tudo ao nosso redor.\",\n",
        "    \"A desconfiança pode corroer relacionamentos, minando a base da confiança mútua.\",\n",
        "    \"A decepção pode nos fazer questionar se podemos confiar em alguém novamente.\",\n",
        "    \"O desespero pode nos fazer sentir como se estivéssemos presos em um abismo sem fim.\",\n",
        "    \"A apatia pode roubar nossa paixão pela vida, deixando-nos vazios por dentro.\",\n",
        "    \"O remorso pode nos perseguir, lembrando-nos de erros passados que gostaríamos de esquecer.\",\n",
        "    \"A negação pode nos impedir de enfrentar a realidade, mantendo-nos presos em uma ilusão de segurança.\",\n",
        "    \"A solidão pode nos fazer sentir como se estivéssemos perdidos em um mar de rostos desconhecidos.\",\n",
        "    \"A confusão pode nos deixar perplexos e incertos sobre qual caminho seguir.\",\n",
        "    \"A mágoa pode criar uma barreira entre nós e os outros, nos isolando em nossa própria dor.\",\n",
        "    \"A preocupação excessiva pode nos manter acordados à noite, girando em círculos de ansiedade.\",\n",
        "    \"A sensação de inadequação pode minar nossa autoconfiança e nos fazer duvidar de nossas habilidades.\",\n",
        "    \"A ameaça do desconhecido pode nos deixar paralisados, incapazes de dar o próximo passo.\",\n",
        "    \"A perda pode nos deixar sentindo um vazio profundo, como se algo essencial estivesse faltando.\",\n",
        "    \"A sensação de ser sobrecarregado pode nos fazer querer desistir antes mesmo de tentar.\"\n",
        "]\n",
        "\n",
        "\n",
        "\n",
        "frases = frases_positivas + frases_negativas\n",
        "\n",
        "#Lista para sabermos quais frases são positivas (+1) e quais são negativas (-1)\n",
        "sentimentos = [1]*len(frases_positivas) + [-1]*len(frases_negativas)"
      ]
    },
    {
      "cell_type": "code",
      "execution_count": null,
      "metadata": {
        "id": "hA3L1TU8RBRd"
      },
      "outputs": [],
      "source": [
        "# Revisando nossas frases:\n",
        "for i in range(len(frases)):\n",
        "  if sentimentos[i] > 0:\n",
        "    sent = \"positivo\"\n",
        "  else:\n",
        "    sent = \"negativo\"\n",
        "  print(frases[i], sentimentos[i], sent)"
      ]
    },
    {
      "cell_type": "markdown",
      "metadata": {
        "id": "ZsD_m3TFGM-u"
      },
      "source": [
        "Vamos passar nosso limpador em todas as nossas frases. Precisamos garantir que não haja frases repetidas, ou contradições (mesma frase com sentidos opostos). Então, além de limpar, vamos reduzir as duplicações."
      ]
    },
    {
      "cell_type": "code",
      "execution_count": null,
      "metadata": {
        "id": "2PTE4j4twE2P"
      },
      "outputs": [],
      "source": [
        "frases_limpo = []\n",
        "sentimentos_limpo = []\n",
        "for frase, sent in zip(frases, sentimentos):\n",
        "    frase_limpa = limpa_frase(frase)\n",
        "    if frase_limpa not in frases_limpo:\n",
        "      print(\"+ Frase: \", frase, \"  Limpa:\", frase_limpa, \"  Sentimento:\", sent)\n",
        "      frases_limpo.append(frase_limpa)\n",
        "      sentimentos_limpo.append(sent)\n",
        "    else:\n",
        "      print(\"- Excluindo a frase repetida:\", frase, \"  Limpa:\", frase_limpa, \"  Sentimento:\", sent)\n",
        "\n"
      ]
    },
    {
      "cell_type": "markdown",
      "metadata": {
        "id": "jWXayyopP1q4"
      },
      "source": [
        "Vamos criar um **vocabulário** unificado, para os dois conjuntos de frases, positivo e negativo.\n",
        "\n"
      ]
    },
    {
      "cell_type": "code",
      "execution_count": null,
      "metadata": {
        "id": "NMr0eYNnP72x"
      },
      "outputs": [],
      "source": [
        "# Inicialize o vetorizador CountVectorizer, para contar palavras\n",
        "vectorizer = CountVectorizer(max_features=10000)\n",
        "\n",
        "# Alimenta o vetorizador aos dados (construa o vocabulário)\n",
        "vectorizer.fit(frases_limpo)\n",
        "vocab = vectorizer.get_feature_names_out()\n",
        "print(\"Vocabulário:\", vocab)"
      ]
    },
    {
      "cell_type": "markdown",
      "metadata": {
        "id": "iuUggJnLQcGU"
      },
      "source": [
        "Vamos criar o BAG-OF-WORDS:"
      ]
    },
    {
      "cell_type": "code",
      "execution_count": null,
      "metadata": {
        "id": "x1O5XFAKQctw"
      },
      "outputs": [],
      "source": [
        "#Cria o bag_of_words, cruzando as frases e suas contagens em relação ao vocabulário\n",
        "bag_of_words = vectorizer.fit_transform(frases_limpo)\n",
        "\n",
        "# Converta a matriz de bag of words para um DataFrame Pandas\n",
        "df_bag_of_words = pd.DataFrame(bag_of_words.toarray(), columns=vocab)\n",
        "\n",
        "# Adicione uma coluna para representar as frases\n",
        "df_bag_of_words['Frases'] = frases_limpo\n",
        "\n",
        "# Reorganize as colunas para ter as frases na primeira coluna\n",
        "colunas = ['Frases'] + list(vocab)\n",
        "df_bag_of_words = df_bag_of_words[colunas]\n",
        "\n",
        "# Imprima a matriz de bag of words\n",
        "print(\"Bag of Words:\")\n",
        "print(df_bag_of_words)"
      ]
    },
    {
      "cell_type": "markdown",
      "metadata": {
        "id": "jG1-LRGlTiSB"
      },
      "source": [
        "Lembrando que para cada frase temos um sentimento, positivo ou negativo, isso define a base de dados que queremos modelar!"
      ]
    },
    {
      "cell_type": "code",
      "execution_count": null,
      "metadata": {
        "id": "dTOXdXQXTxV4"
      },
      "outputs": [],
      "source": [
        "# Adicione uma coluna para representar as frases\n",
        "df_bag_of_words['Sentimentos'] = sentimentos_limpo\n",
        "\n",
        "# Reorganize as colunas para ter uma ordem boa para apresentação dos dados\n",
        "colunas = ['Frases'] + ['Sentimentos'] + list(vocab)\n",
        "df_bag_of_words = df_bag_of_words[colunas]\n",
        "\n",
        "# Imprima a matriz de bag of words\n",
        "print(\"Bag of Words:\")\n",
        "print(df_bag_of_words)"
      ]
    },
    {
      "cell_type": "markdown",
      "metadata": {
        "id": "xOHq5AP3t9tR"
      },
      "source": [
        "\n",
        "\n",
        "---\n",
        "\n"
      ]
    },
    {
      "cell_type": "markdown",
      "metadata": {
        "id": "s3Yq1VgOdT-b"
      },
      "source": [
        "## Modelo SVM para classificação de sentimentos"
      ]
    },
    {
      "cell_type": "markdown",
      "metadata": {
        "id": "5t_Lf_UmnMJL"
      },
      "source": [
        "Olhando agora o BOW de forma simplesmente numérica, temos:"
      ]
    },
    {
      "cell_type": "code",
      "execution_count": null,
      "metadata": {
        "id": "6DqudCaUnQTQ"
      },
      "outputs": [],
      "source": [
        "X = bag_of_words.toarray()\n",
        "y = np.array(sentimentos_limpo)\n",
        "\n",
        "print(X, y)\n",
        "print(X.shape, y.shape)"
      ]
    },
    {
      "cell_type": "markdown",
      "metadata": {
        "id": "Z2e95SBynlOT"
      },
      "source": [
        "Vejamos se o nosso método de pontos interiores funciona para esse caso, de dimensão alta."
      ]
    },
    {
      "cell_type": "code",
      "execution_count": null,
      "metadata": {
        "id": "NnBQfLXWnlBt"
      },
      "outputs": [],
      "source": [
        "# Teste do método de pontos interiores\n",
        "w, c = pontos_interiores_SVM(X, y)"
      ]
    },
    {
      "cell_type": "markdown",
      "metadata": {
        "id": "3exa8e6Pn9om"
      },
      "source": [
        "Nosso hiperplano agora é algo bem mais complicado, difícil de expressar graficamente. De toda forma, temos um classificador definidos como sendo:\n",
        "- Sentimento positivo se $w^T x  - c > 0 $,\n",
        "- Sentimento negativo se $w^T x  - c < 0 $,\n",
        "\n",
        "onde $x$ é o vetor que representa uma nova frase no vocabulário que criamos. Vamos testar com algumas frases."
      ]
    },
    {
      "cell_type": "code",
      "execution_count": null,
      "metadata": {
        "id": "aT6JpHMDo6ed"
      },
      "outputs": [],
      "source": [
        "frases_teste_positivas = [\n",
        "    \"A cada amanhecer, renasce a esperança de um dia cheio de oportunidades e alegrias.\",\n",
        "    \"O sorriso sincero de uma criança é capaz de iluminar até os dias mais sombrios.\",\n",
        "    \"A gratidão transforma pequenos momentos em grandes lembranças.\",\n",
        "    \"O amor é a força que nos impulsiona a superar qualquer obstáculo.\",\n",
        "    \"A amizade verdadeira é um tesouro que enriquece nossas vidas todos os dias.\",\n",
        "    \"O sucesso é a soma de pequenos esforços repetidos dia após dia.\",\n",
        "    \"A natureza nos presenteia com sua beleza exuberante, recordando-nos da maravilha da vida.\",\n",
        "    \"A gentileza é a linguagem universal que conecta corações e alma.\",\n",
        "    \"O otimismo é a chave que abre as portas para um futuro cheio de possibilidades.\",\n",
        "    \"A fé nos guia através dos momentos difíceis e nos fortalece para enfrentar qualquer desafio.\",\n",
        "    \"Cada novo dia é uma oportunidade para fazer algo maravilhoso.\",\n",
        "    \"A vida é uma jornada cheia de surpresas e aventuras esperando para serem descobertas.\",\n",
        "    \"As pequenas coisas na vida são as que mais nos trazem felicidade.\",\n",
        "    \"A compaixão e empatia são o verdadeiro alicerce da humanidade.\",\n",
        "    \"A persistência é a chave para transformar sonhos em realidade.\",\n",
        "    \"A cada passo dado, estamos mais perto de alcançar nossos objetivos.\",\n",
        "    \"A beleza está em toda parte, basta olhar com os olhos do coração.\",\n",
        "    \"Cada desafio que enfrentamos nos torna mais fortes e resilientes.\",\n",
        "    \"A vida é um presente precioso, devemos aproveitá-la ao máximo.\",\n",
        "    \"Meu cachorro é um amor\"\n",
        "  ]\n",
        "\n",
        "frases_teste_negativas = [\n",
        "    \"Às vezes, a solidão parece a única companhia.\",\n",
        "    \"A tristeza parece uma sombra que me persegue.\",\n",
        "    \"A dor parece eterna quando estamos no meio dela.\",\n",
        "    \"Às vezes, a vida parece uma batalha perdida.\",\n",
        "    \"A incerteza do futuro pode ser avassaladora.\",\n",
        "    \"A sensação de fracasso é difícil de suportar.\",\n",
        "    \"A perda de um ente querido deixa um vazio insuperável.\",\n",
        "    \"Às vezes, parece que ninguém realmente se importa.\",\n",
        "    \"A ansiedade sufoca e paralisa.\",\n",
        "    \"A raiva consome e destrói tudo ao seu redor.\",\n",
        "    \"Às vezes, parece que não há saída.\",\n",
        "    \"A decepção corta como uma faca afiada.\",\n",
        "    \"Às vezes, o medo parece dominar tudo.\",\n",
        "    \"A dor emocional pode ser mais intensa do que qualquer dor física.\",\n",
        "    \"A sensação de estar perdido é avassaladora.\",\n",
        "    \"Às vezes, o desespero parece a única resposta.\",\n",
        "    \"A mágoa parece uma ferida que nunca cicatriza.\",\n",
        "    \"Às vezes, o mundo parece um lugar sombrio e sem esperança.\",\n",
        "    \"A solidão é uma companhia amarga e constante.\",\n",
        "    \"A sensação de estar preso é sufocante e desesperadora.\",\n",
        "    \"Meu cachorro é um terror\"\n",
        "]\n",
        "\n",
        "frases_teste = frases_teste_positivas + frases_teste_negativas\n",
        "\n",
        "#Lista para sabermos quais frases são positivas (+1) e quais são negativas (-1)\n",
        "sentimentos_teste = [+1]*len(frases_teste_positivas) + [-1]*len(frases_teste_negativas)\n",
        "\n",
        "#Vamos limpar a frase, para considerar apenas as palavras importantes para a nossa análise\n",
        "frases_teste_limpo = []\n",
        "for frase in frases_teste:\n",
        "    frases_teste_limpo.append(limpa_frase(frase))\n",
        "\n",
        "print(\"Frases limpas e tokenizadas:\")\n",
        "print(frases_teste_limpo)\n",
        "print()\n",
        "# Tem que usar o vetor das frases de treinamento\n",
        "# O vetorizador já está carregado com o vetor que usamos para construir o BOW\n",
        "#   basta usar o vetorizador para ver quais palavras do vocabulário aparecem na frase nova\n",
        "vetores_test = vectorizer.transform(frases_teste_limpo).toarray()\n",
        "print(\"Frases vetorizadas com base no vocabulário (0 e 1 conforma palavras que estão na frase):\")\n",
        "print(vetores_test)\n"
      ]
    },
    {
      "cell_type": "markdown",
      "metadata": {
        "id": "ukVilKC-ppo1"
      },
      "source": [
        "Vamos avaliar se essas frases estão \"acima\" ou \"abaixo\" do hiperplano:"
      ]
    },
    {
      "cell_type": "code",
      "execution_count": null,
      "metadata": {
        "id": "02mjA-EmpjZd"
      },
      "outputs": [],
      "source": [
        "# frases e suas classificações pelo modelo:\n",
        "\n",
        "erros = 0\n",
        "for i in range(len(frases_teste)):\n",
        "  print()\n",
        "  print(frases_teste[i])\n",
        "  x = vetores_test[i].reshape(len(w),1)\n",
        "  classific = np.dot(w.T, x) - c\n",
        "  if classific > 0 :\n",
        "    print(\" Classificação original :\", (\"Positiva\" if sentimentos_teste[i]> 0 else \"Negativa\") )\n",
        "    print(\" Modelo classificou como: Positiva!\", classific)\n",
        "    if sentimentos_teste[i] < 0:\n",
        "      erros = erros +1\n",
        "  else:\n",
        "    print(\" Classificação original :\", (\"Positiva\" if sentimentos_teste[i]> 0 else \"Negativa\") )\n",
        "    print(\" Modelo classificou como: Negativa!\", classific)\n",
        "    if sentimentos_teste[i] > 0:\n",
        "      erros = erros +1\n",
        "\n",
        "print()\n",
        "print(\"Taxa de erro:\", 100*float(erros) / len(frases_teste), \" %\")"
      ]
    },
    {
      "cell_type": "markdown",
      "metadata": {
        "id": "U-zOXF-Dq9Sm"
      },
      "source": [
        "Vamos ver o classificador do sklearn:"
      ]
    },
    {
      "cell_type": "code",
      "execution_count": null,
      "metadata": {
        "id": "116Hh_bZYrHE"
      },
      "outputs": [],
      "source": [
        "x_train = bag_of_words #.toarray()\n",
        "y_train = sentimentos_limpo\n",
        "\n",
        "# Primeiro dizemos que tipo de modelo que queremos (SVM linear)\n",
        "# Colocamos C bem grande, para que ele não permita erros de classificação\n",
        "# a função loss é escolhida como 'hinge' para coincidir com o modelo apresentado\n",
        "model = LinearSVC(loss='hinge',C=1e18, max_iter=10000)\n",
        "\n",
        "# Agora pedimos para ele ajustar o modelo, ou seja,\n",
        "#  resolver o problema de otimização e achar o hiperplano\n",
        "svmfit = model.fit(x_train,y_train)\n",
        "\n",
        "# Esses são os parâmetros do hiperplano ajustado pelo sklearn\n",
        "w_sklearn = svmfit.coef_[0]\n",
        "# Cuidado, nosso c é -c do sklearn!\n",
        "c_sklearn = - svmfit.intercept_\n",
        "print(\" w , c \")\n",
        "print(w_sklearn, c_sklearn)\n"
      ]
    },
    {
      "cell_type": "code",
      "execution_count": null,
      "metadata": {
        "id": "bRlRoVd7rSdf"
      },
      "outputs": [],
      "source": [
        "# frases e suas classificações pelo modelo:\n",
        "\n",
        "erros = 0\n",
        "for i in range(len(frases_teste)):\n",
        "  print()\n",
        "  print(frases_teste[i])\n",
        "  x = vetores_test[i].reshape(len(w_sklearn),1)\n",
        "  classific = model.decision_function(x.T) #np.dot(w_sklearn.T, x) - c_sklearn\n",
        "  if classific > 0 :\n",
        "    print(\" Classificação original :\", (\"Positiva\" if sentimentos_teste[i]> 0 else \"Negativa\") )\n",
        "    print(\" Modelo classificou como: Positiva! wx-c:\", np.dot(w_sklearn.T, x) - c_sklearn, model.decision_function(x.T))\n",
        "    if sentimentos_teste[i] < 0:\n",
        "      erros = erros +1\n",
        "  else:\n",
        "    print(\" Classificação original :\", (\"Positiva\" if sentimentos_teste[i]> 0 else \"Negativa\") )\n",
        "    print(\" Modelo classificou como: Negativa! w.Tx-c:\", np.dot(w_sklearn.T, x) - c_sklearn, model.decision_function(x.T))\n",
        "    if sentimentos_teste[i] > 0:\n",
        "      erros = erros +1\n",
        "\n",
        "print()\n",
        "print(\"Taxa de erro:\", 100*float(erros) / len(frases_teste), \" %\")"
      ]
    },
    {
      "cell_type": "markdown",
      "metadata": {
        "id": "g02ynWI_X4UQ"
      },
      "source": [
        "**Observações**:\n",
        "- Nosso modelo bateu com o modelo do sklearn!\n"
      ]
    },
    {
      "cell_type": "markdown",
      "metadata": {
        "id": "CsOeGAWgr_jE"
      },
      "source": [
        "\n",
        "\n",
        "---\n",
        "\n"
      ]
    },
    {
      "cell_type": "markdown",
      "metadata": {
        "id": "ANRGy1wFsA7q"
      },
      "source": [
        "### ❗Exercício 4 ❗\n",
        "\n",
        "Como atividade preliminar, foi solicitado aos alunos do curso que enviassem 5 frases com conteúdo com sentimento positivo, e 5 com negativo. Todas essas frases foram organizadas em dois arquivos que podem ser acessadas pelos links:\n",
        "https://www.ime.usp.br/~pedrosp/data/texts/positivas.txt\n",
        "\n",
        "https://www.ime.usp.br/~pedrosp/data/texts/negativas.txt\n",
        "\n",
        "Podemos puxar esses dados diretamente para o Colab com os comandos abaixo."
      ]
    },
    {
      "cell_type": "code",
      "execution_count": null,
      "metadata": {
        "id": "QJcXYEfoyW_5"
      },
      "outputs": [],
      "source": [
        "!wget https://www.ime.usp.br/~pedrosp/data/texts/positivas.txt\n",
        "!wget https://www.ime.usp.br/~pedrosp/data/texts/negativas.txt\n",
        "\n",
        "# Open the file in read mode\n",
        "with open(\"positivas.txt\", 'r') as file:\n",
        "    # Read all the lines of the file into a list\n",
        "    frases_positivas_poli = file.readlines()\n",
        "\n",
        "# Print the list of lines\n",
        "print(frases_positivas_poli)\n",
        "\n",
        "# Open the file in read mode\n",
        "with open(\"negativas.txt\", 'r') as file:\n",
        "    # Read all the lines of the file into a list\n",
        "    frases_negativas_poli = file.readlines()\n",
        "\n",
        "# Print the list of lines\n",
        "print(frases_negativas_poli)\n",
        "\n",
        "frases_poli = frases_positivas_poli + frases_negativas_poli\n",
        "\n",
        "#Lista para sabermos quais frases são positivas (+1) e quais são negativas (-1)\n",
        "sentimentos_poli = [1]*len(frases_positivas_poli) + [-1]*len(frases_negativas_poli)\n",
        "\n",
        "#Separando dados em train e test - use como semente o seu nusp!\n",
        "import random\n",
        "random.seed(nusp)\n"
      ]
    },
    {
      "cell_type": "markdown",
      "source": [
        "Sua tarefa final deste exercício programa é:\n",
        "\n",
        "1. Faça um pré-processamento dessas frases para remover caracteres que não sejam letras/números (pontuação), desconsiderar as paravras de conexão (stopwords) e faça a lematização. Remova frases repetidas. Para tanto, você pode usar as funções já implementadas anterioremente.\n",
        "2. Desse conjunto de dados, separe 80% para a construção do modelo (dados de treinamento), e 20% para testar o modelo (teste). Essa separação deve ser **aleatória**. Use como \"semente\" de geração de números aleatório o seu numero USP. Cuidado! Você não pode perder o alinhamento entre as frases e os seus respectivos sentimentos!!!\n",
        "3. Construa um vocabulário e um Bag of Words dessas frases de treinamento (usando CountVectorizer).\n",
        "4. Ajuste um modelo de SVM linear com os dados de treinamento usando a biblioteca sklearn.svm LinearSVC. Nessa passo, por conta da complexidade maior do problema, considere uma regularização maior (C=1e6) e aumente o número máximo de iterações (1000000).\n",
        "5. Teste a precisão do seu modelo com os dados de teste. Relate a precisão (taxa de erros) encontrada.\n",
        "6. Proponha pela menos 5 frases novas, mais longas, tentando ser diferente das que observou na base de dados. Teste o modelo para essas frases. Ele acertou os \"sentimentos\" da sua frase?\n",
        "\n",
        "Adicionalmente, discuta:\n",
        "- É possível usar o nosso código de método dos pontos interiores para resolver o nosso problema? Quais limitações você encontrou ao tentar usá-lo? Como você poderia resolver essas limitações?\n",
        "\n",
        "\n",
        "\n"
      ],
      "metadata": {
        "id": "dzRV42E45Op_"
      }
    }
  ],
  "metadata": {
    "colab": {
      "provenance": [],
      "toc_visible": true,
      "include_colab_link": true
    },
    "kernelspec": {
      "display_name": "Python 3",
      "name": "python3"
    },
    "language_info": {
      "name": "python"
    }
  },
  "nbformat": 4,
  "nbformat_minor": 0
}