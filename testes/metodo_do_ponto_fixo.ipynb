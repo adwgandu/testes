{
 "cells": [
  {
   "cell_type": "code",
   "execution_count": null,
   "id": "1a1165cf",
   "metadata": {},
   "outputs": [],
   "source": [
    "# Método do Ponto Fixo (MPF) #\n",
    "\n",
    "import math\n",
    "e = 2.71828\n",
    "\n",
    "#E = float(input(\"E = \").replace(\",\",\".\")) # O resultado da aproximação será o mais perto de \"E\"\n",
    "E = 0.\n",
    "\n",
    "def f(x): # Coloque a função f(x) depois de return\n",
    "    ####################################\n",
    "\n",
    "    return x**7-x**4+2*(x**3)-4\n",
    "\n",
    "    ####################################\n",
    "\n",
    "def P(x): # Coloque a função iteração (isola o x) depois de return\n",
    "    ####################################\n",
    "\n",
    "    return (x**4-2*x**3+4)**(1/7)\n",
    "\n",
    "    ####################################\n",
    "\n",
    "x = float(input(\"x0 = \").replace(\",\",\".\"))\n",
    "x =0.\n",
    "lista_x, lista_fx = [],[]\n",
    "\n",
    "print(f\"  ||   x   ||   f(x)  ||\\n\",\" ||-------||---------||\")\n",
    "print(f\"0 || {x:.8f} || {f(x):.8f} ||\")\n",
    "\n",
    "i=0\n",
    "while abs(f(x))>E: #and (x >= a and x <= b)\n",
    "    x=P(x)\n",
    "    lista_x.append(x)\n",
    "    f(x)\n",
    "    lista_fx.append(f(x))\n",
    "\n",
    "    i=i+1\n",
    "\n",
    "for i in range(len(lista_x)):\n",
    "    if i!=len(lista_x)-1:\n",
    "        print(f\"{i+1} || {lista_x[i]:.8f} || {lista_fx[i]:.8f} ||\") \n",
    "    else:\n",
    "        print(f\"{i+1} || ({lista_x[i]:.8f}) || {lista_fx[i]:.8f} ||\") \n",
    "print(f\"solução aproximada = {lista_x[-1]} | (f(x) = {lista_fx[-1]})\")\n",
    "print()"
   ]
  },
  {
   "cell_type": "code",
   "execution_count": null,
   "id": "85cad8d0",
   "metadata": {},
   "outputs": [],
   "source": []
  }
 ],
 "metadata": {
  "kernelspec": {
   "display_name": "Python 3 (ipykernel)",
   "language": "python",
   "name": "python3"
  },
  "language_info": {
   "codemirror_mode": {
    "name": "ipython",
    "version": 3
   },
   "file_extension": ".py",
   "mimetype": "text/x-python",
   "name": "python",
   "nbconvert_exporter": "python",
   "pygments_lexer": "ipython3",
   "version": "3.11.5"
  }
 },
 "nbformat": 4,
 "nbformat_minor": 5
}
